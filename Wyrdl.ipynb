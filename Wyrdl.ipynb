{
  "nbformat": 4,
  "nbformat_minor": 0,
  "metadata": {
    "colab": {
      "provenance": [],
      "authorship_tag": "ABX9TyP5Het7wOySr53Y0F+0NpMa",
      "include_colab_link": true
    },
    "kernelspec": {
      "name": "python3",
      "display_name": "Python 3"
    },
    "language_info": {
      "name": "python"
    }
  },
  "cells": [
    {
      "cell_type": "markdown",
      "metadata": {
        "id": "view-in-github",
        "colab_type": "text"
      },
      "source": [
        "<a href=\"https://colab.research.google.com/github/RussAbbott/Wyrdl/blob/main/Wyrdl.ipynb\" target=\"_parent\"><img src=\"https://colab.research.google.com/assets/colab-badge.svg\" alt=\"Open In Colab\"/></a>"
      ]
    },
    {
      "cell_type": "code",
      "execution_count": 31,
      "metadata": {
        "colab": {
          "base_uri": "https://localhost:8080/",
          "height": 1000
        },
        "id": "6nSwKg5OLqJp",
        "outputId": "791f98c9-f177-4dff-b90e-ee6c573b3b55"
      },
      "outputs": [
        {
          "output_type": "display_data",
          "data": {
            "text/plain": [],
            "text/html": [
              "<pre style=\"white-space:pre;overflow-x:auto;line-height:normal;font-family:Menlo,'DejaVu Sans Mono',consolas,'Courier New',monospace\"></pre>\n"
            ]
          },
          "metadata": {}
        },
        {
          "output_type": "display_data",
          "data": {
            "text/plain": [
              "\u001b[92m──────────────────────────────── \u001b[0m\u001b[38;2;0;204;255m🧙 Guess \u001b[0m\u001b[1;38;2;0;204;255m1\u001b[0m\u001b[38;2;0;204;255m 💡\u001b[0m \u001b[92m ────────────────────────────────\u001b[0m\n"
            ],
            "text/html": [
              "<pre style=\"white-space:pre;overflow-x:auto;line-height:normal;font-family:Menlo,'DejaVu Sans Mono',consolas,'Courier New',monospace\"><span style=\"color: #00ff00; text-decoration-color: #00ff00\">──────────────────────────────── </span><span style=\"color: #00ccff; text-decoration-color: #00ccff\">🧙 Guess </span><span style=\"color: #00ccff; text-decoration-color: #00ccff; font-weight: bold\">1</span><span style=\"color: #00ccff; text-decoration-color: #00ccff\"> 💡</span> <span style=\"color: #00ff00; text-decoration-color: #00ff00\"> ────────────────────────────────</span>\n",
              "</pre>\n"
            ]
          },
          "metadata": {}
        },
        {
          "output_type": "display_data",
          "data": {
            "text/plain": [
              "\n",
              "Guess word: "
            ],
            "text/html": [
              "<pre style=\"white-space:pre;overflow-x:auto;line-height:normal;font-family:Menlo,'DejaVu Sans Mono',consolas,'Courier New',monospace\">\n",
              "Guess word: </pre>\n"
            ]
          },
          "metadata": {}
        },
        {
          "name": "stdout",
          "output_type": "stream",
          "text": [
            "hjkew\n"
          ]
        },
        {
          "output_type": "display_data",
          "data": {
            "text/plain": [
              "                                   \u001b[1;37;48;2;0;0;0mH\u001b[0m \u001b[1;37;48;2;0;0;0mJ\u001b[0m \u001b[1;37;48;2;0;0;0mK\u001b[0m \u001b[1;30;48;2;255;255;0mE\u001b[0m \u001b[1;37;48;2;0;0;0mW\u001b[0m                                    \n"
            ],
            "text/html": [
              "<pre style=\"white-space:pre;overflow-x:auto;line-height:normal;font-family:Menlo,'DejaVu Sans Mono',consolas,'Courier New',monospace\">                                   <span style=\"color: #c0c0c0; text-decoration-color: #c0c0c0; background-color: #000000; font-weight: bold\">H</span> <span style=\"color: #c0c0c0; text-decoration-color: #c0c0c0; background-color: #000000; font-weight: bold\">J</span> <span style=\"color: #c0c0c0; text-decoration-color: #c0c0c0; background-color: #000000; font-weight: bold\">K</span> <span style=\"color: #000000; text-decoration-color: #000000; background-color: #ffff00; font-weight: bold\">E</span> <span style=\"color: #c0c0c0; text-decoration-color: #c0c0c0; background-color: #000000; font-weight: bold\">W</span>                                    \n",
              "</pre>\n"
            ]
          },
          "metadata": {}
        },
        {
          "output_type": "display_data",
          "data": {
            "text/plain": [
              "                                                                                \n",
              "              \u001b[2mA\u001b[0m \u001b[2mB\u001b[0m \u001b[2mC\u001b[0m \u001b[2mD\u001b[0m \u001b[1;30;48;2;255;255;0mE\u001b[0m \u001b[2mF\u001b[0m \u001b[2mG\u001b[0m \u001b[1;37;48;2;0;0;0mH\u001b[0m \u001b[2mI\u001b[0m \u001b[1;37;48;2;0;0;0mJ\u001b[0m \u001b[1;37;48;2;0;0;0mK\u001b[0m \u001b[2mL\u001b[0m \u001b[2mM\u001b[0m \u001b[2mN\u001b[0m \u001b[2mO\u001b[0m \u001b[2mP\u001b[0m \u001b[2mQ\u001b[0m \u001b[2mR\u001b[0m \u001b[2mS\u001b[0m \u001b[2mT\u001b[0m \u001b[2mU\u001b[0m \u001b[2mV\u001b[0m \u001b[1;37;48;2;0;0;0mW\u001b[0m \u001b[2mX\u001b[0m \u001b[2mY\u001b[0m \u001b[2mZ\u001b[0m               \n",
              "                                                                                \n",
              "                                                                                \n"
            ],
            "text/html": [
              "<pre style=\"white-space:pre;overflow-x:auto;line-height:normal;font-family:Menlo,'DejaVu Sans Mono',consolas,'Courier New',monospace\">                                                                                \n",
              "              <span style=\"color: #7f7f7f; text-decoration-color: #7f7f7f\">A</span> <span style=\"color: #7f7f7f; text-decoration-color: #7f7f7f\">B</span> <span style=\"color: #7f7f7f; text-decoration-color: #7f7f7f\">C</span> <span style=\"color: #7f7f7f; text-decoration-color: #7f7f7f\">D</span> <span style=\"color: #000000; text-decoration-color: #000000; background-color: #ffff00; font-weight: bold\">E</span> <span style=\"color: #7f7f7f; text-decoration-color: #7f7f7f\">F</span> <span style=\"color: #7f7f7f; text-decoration-color: #7f7f7f\">G</span> <span style=\"color: #c0c0c0; text-decoration-color: #c0c0c0; background-color: #000000; font-weight: bold\">H</span> <span style=\"color: #7f7f7f; text-decoration-color: #7f7f7f\">I</span> <span style=\"color: #c0c0c0; text-decoration-color: #c0c0c0; background-color: #000000; font-weight: bold\">J</span> <span style=\"color: #c0c0c0; text-decoration-color: #c0c0c0; background-color: #000000; font-weight: bold\">K</span> <span style=\"color: #7f7f7f; text-decoration-color: #7f7f7f\">L</span> <span style=\"color: #7f7f7f; text-decoration-color: #7f7f7f\">M</span> <span style=\"color: #7f7f7f; text-decoration-color: #7f7f7f\">N</span> <span style=\"color: #7f7f7f; text-decoration-color: #7f7f7f\">O</span> <span style=\"color: #7f7f7f; text-decoration-color: #7f7f7f\">P</span> <span style=\"color: #7f7f7f; text-decoration-color: #7f7f7f\">Q</span> <span style=\"color: #7f7f7f; text-decoration-color: #7f7f7f\">R</span> <span style=\"color: #7f7f7f; text-decoration-color: #7f7f7f\">S</span> <span style=\"color: #7f7f7f; text-decoration-color: #7f7f7f\">T</span> <span style=\"color: #7f7f7f; text-decoration-color: #7f7f7f\">U</span> <span style=\"color: #7f7f7f; text-decoration-color: #7f7f7f\">V</span> <span style=\"color: #c0c0c0; text-decoration-color: #c0c0c0; background-color: #000000; font-weight: bold\">W</span> <span style=\"color: #7f7f7f; text-decoration-color: #7f7f7f\">X</span> <span style=\"color: #7f7f7f; text-decoration-color: #7f7f7f\">Y</span> <span style=\"color: #7f7f7f; text-decoration-color: #7f7f7f\">Z</span>               \n",
              "                                                                                \n",
              "                                                                                \n",
              "</pre>\n"
            ]
          },
          "metadata": {}
        },
        {
          "output_type": "display_data",
          "data": {
            "text/plain": [],
            "text/html": [
              "<pre style=\"white-space:pre;overflow-x:auto;line-height:normal;font-family:Menlo,'DejaVu Sans Mono',consolas,'Courier New',monospace\"></pre>\n"
            ]
          },
          "metadata": {}
        },
        {
          "output_type": "display_data",
          "data": {
            "text/plain": [
              "\u001b[92m──────────────────────────────── \u001b[0m\u001b[38;2;0;204;255m🧙 Guess \u001b[0m\u001b[1;38;2;0;204;255m2\u001b[0m\u001b[38;2;0;204;255m 💡\u001b[0m \u001b[92m ────────────────────────────────\u001b[0m\n"
            ],
            "text/html": [
              "<pre style=\"white-space:pre;overflow-x:auto;line-height:normal;font-family:Menlo,'DejaVu Sans Mono',consolas,'Courier New',monospace\"><span style=\"color: #00ff00; text-decoration-color: #00ff00\">──────────────────────────────── </span><span style=\"color: #00ccff; text-decoration-color: #00ccff\">🧙 Guess </span><span style=\"color: #00ccff; text-decoration-color: #00ccff; font-weight: bold\">2</span><span style=\"color: #00ccff; text-decoration-color: #00ccff\"> 💡</span> <span style=\"color: #00ff00; text-decoration-color: #00ff00\"> ────────────────────────────────</span>\n",
              "</pre>\n"
            ]
          },
          "metadata": {}
        },
        {
          "output_type": "display_data",
          "data": {
            "text/plain": [
              "\n",
              "Guess word: "
            ],
            "text/html": [
              "<pre style=\"white-space:pre;overflow-x:auto;line-height:normal;font-family:Menlo,'DejaVu Sans Mono',consolas,'Courier New',monospace\">\n",
              "Guess word: </pre>\n"
            ]
          },
          "metadata": {}
        },
        {
          "name": "stdout",
          "output_type": "stream",
          "text": [
            "jhgfq\n"
          ]
        },
        {
          "output_type": "display_data",
          "data": {
            "text/plain": [
              "                                   \u001b[1;37;48;2;0;0;0mH\u001b[0m \u001b[1;37;48;2;0;0;0mJ\u001b[0m \u001b[1;37;48;2;0;0;0mK\u001b[0m \u001b[1;30;48;2;255;255;0mE\u001b[0m \u001b[1;37;48;2;0;0;0mW\u001b[0m                                    \n"
            ],
            "text/html": [
              "<pre style=\"white-space:pre;overflow-x:auto;line-height:normal;font-family:Menlo,'DejaVu Sans Mono',consolas,'Courier New',monospace\">                                   <span style=\"color: #c0c0c0; text-decoration-color: #c0c0c0; background-color: #000000; font-weight: bold\">H</span> <span style=\"color: #c0c0c0; text-decoration-color: #c0c0c0; background-color: #000000; font-weight: bold\">J</span> <span style=\"color: #c0c0c0; text-decoration-color: #c0c0c0; background-color: #000000; font-weight: bold\">K</span> <span style=\"color: #000000; text-decoration-color: #000000; background-color: #ffff00; font-weight: bold\">E</span> <span style=\"color: #c0c0c0; text-decoration-color: #c0c0c0; background-color: #000000; font-weight: bold\">W</span>                                    \n",
              "</pre>\n"
            ]
          },
          "metadata": {}
        },
        {
          "output_type": "display_data",
          "data": {
            "text/plain": [
              "                                   \u001b[1;37;48;2;0;0;0mJ\u001b[0m \u001b[1;37;48;2;0;0;0mH\u001b[0m \u001b[1;37;48;2;0;0;0mG\u001b[0m \u001b[1;37;48;2;0;0;0mF\u001b[0m \u001b[1;37;48;2;0;0;0mQ\u001b[0m                                    \n"
            ],
            "text/html": [
              "<pre style=\"white-space:pre;overflow-x:auto;line-height:normal;font-family:Menlo,'DejaVu Sans Mono',consolas,'Courier New',monospace\">                                   <span style=\"color: #c0c0c0; text-decoration-color: #c0c0c0; background-color: #000000; font-weight: bold\">J</span> <span style=\"color: #c0c0c0; text-decoration-color: #c0c0c0; background-color: #000000; font-weight: bold\">H</span> <span style=\"color: #c0c0c0; text-decoration-color: #c0c0c0; background-color: #000000; font-weight: bold\">G</span> <span style=\"color: #c0c0c0; text-decoration-color: #c0c0c0; background-color: #000000; font-weight: bold\">F</span> <span style=\"color: #c0c0c0; text-decoration-color: #c0c0c0; background-color: #000000; font-weight: bold\">Q</span>                                    \n",
              "</pre>\n"
            ]
          },
          "metadata": {}
        },
        {
          "output_type": "display_data",
          "data": {
            "text/plain": [
              "                                                                                \n",
              "              \u001b[2mA\u001b[0m \u001b[2mB\u001b[0m \u001b[2mC\u001b[0m \u001b[2mD\u001b[0m \u001b[1;30;48;2;255;255;0mE\u001b[0m \u001b[1;37;48;2;0;0;0mF\u001b[0m \u001b[1;37;48;2;0;0;0mG\u001b[0m \u001b[1;37;48;2;0;0;0mH\u001b[0m \u001b[2mI\u001b[0m \u001b[1;37;48;2;0;0;0mJ\u001b[0m \u001b[1;37;48;2;0;0;0mK\u001b[0m \u001b[2mL\u001b[0m \u001b[2mM\u001b[0m \u001b[2mN\u001b[0m \u001b[2mO\u001b[0m \u001b[2mP\u001b[0m \u001b[1;37;48;2;0;0;0mQ\u001b[0m \u001b[2mR\u001b[0m \u001b[2mS\u001b[0m \u001b[2mT\u001b[0m \u001b[2mU\u001b[0m \u001b[2mV\u001b[0m \u001b[1;37;48;2;0;0;0mW\u001b[0m \u001b[2mX\u001b[0m \u001b[2mY\u001b[0m \u001b[2mZ\u001b[0m               \n",
              "                                                                                \n",
              "                                                                                \n"
            ],
            "text/html": [
              "<pre style=\"white-space:pre;overflow-x:auto;line-height:normal;font-family:Menlo,'DejaVu Sans Mono',consolas,'Courier New',monospace\">                                                                                \n",
              "              <span style=\"color: #7f7f7f; text-decoration-color: #7f7f7f\">A</span> <span style=\"color: #7f7f7f; text-decoration-color: #7f7f7f\">B</span> <span style=\"color: #7f7f7f; text-decoration-color: #7f7f7f\">C</span> <span style=\"color: #7f7f7f; text-decoration-color: #7f7f7f\">D</span> <span style=\"color: #000000; text-decoration-color: #000000; background-color: #ffff00; font-weight: bold\">E</span> <span style=\"color: #c0c0c0; text-decoration-color: #c0c0c0; background-color: #000000; font-weight: bold\">F</span> <span style=\"color: #c0c0c0; text-decoration-color: #c0c0c0; background-color: #000000; font-weight: bold\">G</span> <span style=\"color: #c0c0c0; text-decoration-color: #c0c0c0; background-color: #000000; font-weight: bold\">H</span> <span style=\"color: #7f7f7f; text-decoration-color: #7f7f7f\">I</span> <span style=\"color: #c0c0c0; text-decoration-color: #c0c0c0; background-color: #000000; font-weight: bold\">J</span> <span style=\"color: #c0c0c0; text-decoration-color: #c0c0c0; background-color: #000000; font-weight: bold\">K</span> <span style=\"color: #7f7f7f; text-decoration-color: #7f7f7f\">L</span> <span style=\"color: #7f7f7f; text-decoration-color: #7f7f7f\">M</span> <span style=\"color: #7f7f7f; text-decoration-color: #7f7f7f\">N</span> <span style=\"color: #7f7f7f; text-decoration-color: #7f7f7f\">O</span> <span style=\"color: #7f7f7f; text-decoration-color: #7f7f7f\">P</span> <span style=\"color: #c0c0c0; text-decoration-color: #c0c0c0; background-color: #000000; font-weight: bold\">Q</span> <span style=\"color: #7f7f7f; text-decoration-color: #7f7f7f\">R</span> <span style=\"color: #7f7f7f; text-decoration-color: #7f7f7f\">S</span> <span style=\"color: #7f7f7f; text-decoration-color: #7f7f7f\">T</span> <span style=\"color: #7f7f7f; text-decoration-color: #7f7f7f\">U</span> <span style=\"color: #7f7f7f; text-decoration-color: #7f7f7f\">V</span> <span style=\"color: #c0c0c0; text-decoration-color: #c0c0c0; background-color: #000000; font-weight: bold\">W</span> <span style=\"color: #7f7f7f; text-decoration-color: #7f7f7f\">X</span> <span style=\"color: #7f7f7f; text-decoration-color: #7f7f7f\">Y</span> <span style=\"color: #7f7f7f; text-decoration-color: #7f7f7f\">Z</span>               \n",
              "                                                                                \n",
              "                                                                                \n",
              "</pre>\n"
            ]
          },
          "metadata": {}
        },
        {
          "output_type": "display_data",
          "data": {
            "text/plain": [],
            "text/html": [
              "<pre style=\"white-space:pre;overflow-x:auto;line-height:normal;font-family:Menlo,'DejaVu Sans Mono',consolas,'Courier New',monospace\"></pre>\n"
            ]
          },
          "metadata": {}
        },
        {
          "output_type": "display_data",
          "data": {
            "text/plain": [
              "\u001b[92m──────────────────────────────── \u001b[0m\u001b[38;2;0;204;255m🧙 Guess \u001b[0m\u001b[1;38;2;0;204;255m3\u001b[0m\u001b[38;2;0;204;255m 💡\u001b[0m \u001b[92m ────────────────────────────────\u001b[0m\n"
            ],
            "text/html": [
              "<pre style=\"white-space:pre;overflow-x:auto;line-height:normal;font-family:Menlo,'DejaVu Sans Mono',consolas,'Courier New',monospace\"><span style=\"color: #00ff00; text-decoration-color: #00ff00\">──────────────────────────────── </span><span style=\"color: #00ccff; text-decoration-color: #00ccff\">🧙 Guess </span><span style=\"color: #00ccff; text-decoration-color: #00ccff; font-weight: bold\">3</span><span style=\"color: #00ccff; text-decoration-color: #00ccff\"> 💡</span> <span style=\"color: #00ff00; text-decoration-color: #00ff00\"> ────────────────────────────────</span>\n",
              "</pre>\n"
            ]
          },
          "metadata": {}
        },
        {
          "output_type": "display_data",
          "data": {
            "text/plain": [
              "\n",
              "Guess word: "
            ],
            "text/html": [
              "<pre style=\"white-space:pre;overflow-x:auto;line-height:normal;font-family:Menlo,'DejaVu Sans Mono',consolas,'Courier New',monospace\">\n",
              "Guess word: </pre>\n"
            ]
          },
          "metadata": {}
        },
        {
          "name": "stdout",
          "output_type": "stream",
          "text": [
            "gorzs\n"
          ]
        },
        {
          "output_type": "display_data",
          "data": {
            "text/plain": [
              "                                   \u001b[1;37;48;2;0;0;0mH\u001b[0m \u001b[1;37;48;2;0;0;0mJ\u001b[0m \u001b[1;37;48;2;0;0;0mK\u001b[0m \u001b[1;30;48;2;255;255;0mE\u001b[0m \u001b[1;37;48;2;0;0;0mW\u001b[0m                                    \n"
            ],
            "text/html": [
              "<pre style=\"white-space:pre;overflow-x:auto;line-height:normal;font-family:Menlo,'DejaVu Sans Mono',consolas,'Courier New',monospace\">                                   <span style=\"color: #c0c0c0; text-decoration-color: #c0c0c0; background-color: #000000; font-weight: bold\">H</span> <span style=\"color: #c0c0c0; text-decoration-color: #c0c0c0; background-color: #000000; font-weight: bold\">J</span> <span style=\"color: #c0c0c0; text-decoration-color: #c0c0c0; background-color: #000000; font-weight: bold\">K</span> <span style=\"color: #000000; text-decoration-color: #000000; background-color: #ffff00; font-weight: bold\">E</span> <span style=\"color: #c0c0c0; text-decoration-color: #c0c0c0; background-color: #000000; font-weight: bold\">W</span>                                    \n",
              "</pre>\n"
            ]
          },
          "metadata": {}
        },
        {
          "output_type": "display_data",
          "data": {
            "text/plain": [
              "                                   \u001b[1;37;48;2;0;0;0mJ\u001b[0m \u001b[1;37;48;2;0;0;0mH\u001b[0m \u001b[1;37;48;2;0;0;0mG\u001b[0m \u001b[1;37;48;2;0;0;0mF\u001b[0m \u001b[1;37;48;2;0;0;0mQ\u001b[0m                                    \n"
            ],
            "text/html": [
              "<pre style=\"white-space:pre;overflow-x:auto;line-height:normal;font-family:Menlo,'DejaVu Sans Mono',consolas,'Courier New',monospace\">                                   <span style=\"color: #c0c0c0; text-decoration-color: #c0c0c0; background-color: #000000; font-weight: bold\">J</span> <span style=\"color: #c0c0c0; text-decoration-color: #c0c0c0; background-color: #000000; font-weight: bold\">H</span> <span style=\"color: #c0c0c0; text-decoration-color: #c0c0c0; background-color: #000000; font-weight: bold\">G</span> <span style=\"color: #c0c0c0; text-decoration-color: #c0c0c0; background-color: #000000; font-weight: bold\">F</span> <span style=\"color: #c0c0c0; text-decoration-color: #c0c0c0; background-color: #000000; font-weight: bold\">Q</span>                                    \n",
              "</pre>\n"
            ]
          },
          "metadata": {}
        },
        {
          "output_type": "display_data",
          "data": {
            "text/plain": [
              "                                   \u001b[1;37;48;2;0;0;0mG\u001b[0m \u001b[1;30;48;2;255;255;0mO\u001b[0m \u001b[1;37;48;2;0;0;0mR\u001b[0m \u001b[1;37;48;2;0;0;0mZ\u001b[0m \u001b[1;37;48;2;0;0;0mS\u001b[0m                                    \n"
            ],
            "text/html": [
              "<pre style=\"white-space:pre;overflow-x:auto;line-height:normal;font-family:Menlo,'DejaVu Sans Mono',consolas,'Courier New',monospace\">                                   <span style=\"color: #c0c0c0; text-decoration-color: #c0c0c0; background-color: #000000; font-weight: bold\">G</span> <span style=\"color: #000000; text-decoration-color: #000000; background-color: #ffff00; font-weight: bold\">O</span> <span style=\"color: #c0c0c0; text-decoration-color: #c0c0c0; background-color: #000000; font-weight: bold\">R</span> <span style=\"color: #c0c0c0; text-decoration-color: #c0c0c0; background-color: #000000; font-weight: bold\">Z</span> <span style=\"color: #c0c0c0; text-decoration-color: #c0c0c0; background-color: #000000; font-weight: bold\">S</span>                                    \n",
              "</pre>\n"
            ]
          },
          "metadata": {}
        },
        {
          "output_type": "display_data",
          "data": {
            "text/plain": [
              "                                                                                \n",
              "              \u001b[2mA\u001b[0m \u001b[2mB\u001b[0m \u001b[2mC\u001b[0m \u001b[2mD\u001b[0m \u001b[1;30;48;2;255;255;0mE\u001b[0m \u001b[1;37;48;2;0;0;0mF\u001b[0m \u001b[1;37;48;2;0;0;0mG\u001b[0m \u001b[1;37;48;2;0;0;0mH\u001b[0m \u001b[2mI\u001b[0m \u001b[1;37;48;2;0;0;0mJ\u001b[0m \u001b[1;37;48;2;0;0;0mK\u001b[0m \u001b[2mL\u001b[0m \u001b[2mM\u001b[0m \u001b[2mN\u001b[0m \u001b[1;30;48;2;255;255;0mO\u001b[0m \u001b[2mP\u001b[0m \u001b[1;37;48;2;0;0;0mQ\u001b[0m \u001b[1;37;48;2;0;0;0mR\u001b[0m \u001b[1;37;48;2;0;0;0mS\u001b[0m \u001b[2mT\u001b[0m \u001b[2mU\u001b[0m \u001b[2mV\u001b[0m \u001b[1;37;48;2;0;0;0mW\u001b[0m \u001b[2mX\u001b[0m \u001b[2mY\u001b[0m \u001b[1;37;48;2;0;0;0mZ\u001b[0m               \n",
              "                                                                                \n",
              "                                                                                \n"
            ],
            "text/html": [
              "<pre style=\"white-space:pre;overflow-x:auto;line-height:normal;font-family:Menlo,'DejaVu Sans Mono',consolas,'Courier New',monospace\">                                                                                \n",
              "              <span style=\"color: #7f7f7f; text-decoration-color: #7f7f7f\">A</span> <span style=\"color: #7f7f7f; text-decoration-color: #7f7f7f\">B</span> <span style=\"color: #7f7f7f; text-decoration-color: #7f7f7f\">C</span> <span style=\"color: #7f7f7f; text-decoration-color: #7f7f7f\">D</span> <span style=\"color: #000000; text-decoration-color: #000000; background-color: #ffff00; font-weight: bold\">E</span> <span style=\"color: #c0c0c0; text-decoration-color: #c0c0c0; background-color: #000000; font-weight: bold\">F</span> <span style=\"color: #c0c0c0; text-decoration-color: #c0c0c0; background-color: #000000; font-weight: bold\">G</span> <span style=\"color: #c0c0c0; text-decoration-color: #c0c0c0; background-color: #000000; font-weight: bold\">H</span> <span style=\"color: #7f7f7f; text-decoration-color: #7f7f7f\">I</span> <span style=\"color: #c0c0c0; text-decoration-color: #c0c0c0; background-color: #000000; font-weight: bold\">J</span> <span style=\"color: #c0c0c0; text-decoration-color: #c0c0c0; background-color: #000000; font-weight: bold\">K</span> <span style=\"color: #7f7f7f; text-decoration-color: #7f7f7f\">L</span> <span style=\"color: #7f7f7f; text-decoration-color: #7f7f7f\">M</span> <span style=\"color: #7f7f7f; text-decoration-color: #7f7f7f\">N</span> <span style=\"color: #000000; text-decoration-color: #000000; background-color: #ffff00; font-weight: bold\">O</span> <span style=\"color: #7f7f7f; text-decoration-color: #7f7f7f\">P</span> <span style=\"color: #c0c0c0; text-decoration-color: #c0c0c0; background-color: #000000; font-weight: bold\">Q</span> <span style=\"color: #c0c0c0; text-decoration-color: #c0c0c0; background-color: #000000; font-weight: bold\">R</span> <span style=\"color: #c0c0c0; text-decoration-color: #c0c0c0; background-color: #000000; font-weight: bold\">S</span> <span style=\"color: #7f7f7f; text-decoration-color: #7f7f7f\">T</span> <span style=\"color: #7f7f7f; text-decoration-color: #7f7f7f\">U</span> <span style=\"color: #7f7f7f; text-decoration-color: #7f7f7f\">V</span> <span style=\"color: #c0c0c0; text-decoration-color: #c0c0c0; background-color: #000000; font-weight: bold\">W</span> <span style=\"color: #7f7f7f; text-decoration-color: #7f7f7f\">X</span> <span style=\"color: #7f7f7f; text-decoration-color: #7f7f7f\">Y</span> <span style=\"color: #c0c0c0; text-decoration-color: #c0c0c0; background-color: #000000; font-weight: bold\">Z</span>               \n",
              "                                                                                \n",
              "                                                                                \n",
              "</pre>\n"
            ]
          },
          "metadata": {}
        },
        {
          "output_type": "display_data",
          "data": {
            "text/plain": [],
            "text/html": [
              "<pre style=\"white-space:pre;overflow-x:auto;line-height:normal;font-family:Menlo,'DejaVu Sans Mono',consolas,'Courier New',monospace\"></pre>\n"
            ]
          },
          "metadata": {}
        },
        {
          "output_type": "display_data",
          "data": {
            "text/plain": [
              "\u001b[92m──────────────────────────────── \u001b[0m\u001b[38;2;0;204;255m🧙 Guess \u001b[0m\u001b[1;38;2;0;204;255m4\u001b[0m\u001b[38;2;0;204;255m 💡\u001b[0m \u001b[92m ────────────────────────────────\u001b[0m\n"
            ],
            "text/html": [
              "<pre style=\"white-space:pre;overflow-x:auto;line-height:normal;font-family:Menlo,'DejaVu Sans Mono',consolas,'Courier New',monospace\"><span style=\"color: #00ff00; text-decoration-color: #00ff00\">──────────────────────────────── </span><span style=\"color: #00ccff; text-decoration-color: #00ccff\">🧙 Guess </span><span style=\"color: #00ccff; text-decoration-color: #00ccff; font-weight: bold\">4</span><span style=\"color: #00ccff; text-decoration-color: #00ccff\"> 💡</span> <span style=\"color: #00ff00; text-decoration-color: #00ff00\"> ────────────────────────────────</span>\n",
              "</pre>\n"
            ]
          },
          "metadata": {}
        },
        {
          "output_type": "display_data",
          "data": {
            "text/plain": [
              "\n",
              "Guess word: "
            ],
            "text/html": [
              "<pre style=\"white-space:pre;overflow-x:auto;line-height:normal;font-family:Menlo,'DejaVu Sans Mono',consolas,'Courier New',monospace\">\n",
              "Guess word: </pre>\n"
            ]
          },
          "metadata": {}
        },
        {
          "name": "stdout",
          "output_type": "stream",
          "text": [
            "aogus\n"
          ]
        },
        {
          "output_type": "display_data",
          "data": {
            "text/plain": [
              "                                   \u001b[1;37;48;2;0;0;0mH\u001b[0m \u001b[1;37;48;2;0;0;0mJ\u001b[0m \u001b[1;37;48;2;0;0;0mK\u001b[0m \u001b[1;30;48;2;255;255;0mE\u001b[0m \u001b[1;37;48;2;0;0;0mW\u001b[0m                                    \n"
            ],
            "text/html": [
              "<pre style=\"white-space:pre;overflow-x:auto;line-height:normal;font-family:Menlo,'DejaVu Sans Mono',consolas,'Courier New',monospace\">                                   <span style=\"color: #c0c0c0; text-decoration-color: #c0c0c0; background-color: #000000; font-weight: bold\">H</span> <span style=\"color: #c0c0c0; text-decoration-color: #c0c0c0; background-color: #000000; font-weight: bold\">J</span> <span style=\"color: #c0c0c0; text-decoration-color: #c0c0c0; background-color: #000000; font-weight: bold\">K</span> <span style=\"color: #000000; text-decoration-color: #000000; background-color: #ffff00; font-weight: bold\">E</span> <span style=\"color: #c0c0c0; text-decoration-color: #c0c0c0; background-color: #000000; font-weight: bold\">W</span>                                    \n",
              "</pre>\n"
            ]
          },
          "metadata": {}
        },
        {
          "output_type": "display_data",
          "data": {
            "text/plain": [
              "                                   \u001b[1;37;48;2;0;0;0mJ\u001b[0m \u001b[1;37;48;2;0;0;0mH\u001b[0m \u001b[1;37;48;2;0;0;0mG\u001b[0m \u001b[1;37;48;2;0;0;0mF\u001b[0m \u001b[1;37;48;2;0;0;0mQ\u001b[0m                                    \n"
            ],
            "text/html": [
              "<pre style=\"white-space:pre;overflow-x:auto;line-height:normal;font-family:Menlo,'DejaVu Sans Mono',consolas,'Courier New',monospace\">                                   <span style=\"color: #c0c0c0; text-decoration-color: #c0c0c0; background-color: #000000; font-weight: bold\">J</span> <span style=\"color: #c0c0c0; text-decoration-color: #c0c0c0; background-color: #000000; font-weight: bold\">H</span> <span style=\"color: #c0c0c0; text-decoration-color: #c0c0c0; background-color: #000000; font-weight: bold\">G</span> <span style=\"color: #c0c0c0; text-decoration-color: #c0c0c0; background-color: #000000; font-weight: bold\">F</span> <span style=\"color: #c0c0c0; text-decoration-color: #c0c0c0; background-color: #000000; font-weight: bold\">Q</span>                                    \n",
              "</pre>\n"
            ]
          },
          "metadata": {}
        },
        {
          "output_type": "display_data",
          "data": {
            "text/plain": [
              "                                   \u001b[1;37;48;2;0;0;0mG\u001b[0m \u001b[1;30;48;2;255;255;0mO\u001b[0m \u001b[1;37;48;2;0;0;0mR\u001b[0m \u001b[1;37;48;2;0;0;0mZ\u001b[0m \u001b[1;37;48;2;0;0;0mS\u001b[0m                                    \n"
            ],
            "text/html": [
              "<pre style=\"white-space:pre;overflow-x:auto;line-height:normal;font-family:Menlo,'DejaVu Sans Mono',consolas,'Courier New',monospace\">                                   <span style=\"color: #c0c0c0; text-decoration-color: #c0c0c0; background-color: #000000; font-weight: bold\">G</span> <span style=\"color: #000000; text-decoration-color: #000000; background-color: #ffff00; font-weight: bold\">O</span> <span style=\"color: #c0c0c0; text-decoration-color: #c0c0c0; background-color: #000000; font-weight: bold\">R</span> <span style=\"color: #c0c0c0; text-decoration-color: #c0c0c0; background-color: #000000; font-weight: bold\">Z</span> <span style=\"color: #c0c0c0; text-decoration-color: #c0c0c0; background-color: #000000; font-weight: bold\">S</span>                                    \n",
              "</pre>\n"
            ]
          },
          "metadata": {}
        },
        {
          "output_type": "display_data",
          "data": {
            "text/plain": [
              "                                   \u001b[1;30;48;2;0;255;0mA\u001b[0m \u001b[1;30;48;2;255;255;0mO\u001b[0m \u001b[1;37;48;2;0;0;0mG\u001b[0m \u001b[1;37;48;2;0;0;0mU\u001b[0m \u001b[1;37;48;2;0;0;0mS\u001b[0m                                    \n"
            ],
            "text/html": [
              "<pre style=\"white-space:pre;overflow-x:auto;line-height:normal;font-family:Menlo,'DejaVu Sans Mono',consolas,'Courier New',monospace\">                                   <span style=\"color: #000000; text-decoration-color: #000000; background-color: #00ff00; font-weight: bold\">A</span> <span style=\"color: #000000; text-decoration-color: #000000; background-color: #ffff00; font-weight: bold\">O</span> <span style=\"color: #c0c0c0; text-decoration-color: #c0c0c0; background-color: #000000; font-weight: bold\">G</span> <span style=\"color: #c0c0c0; text-decoration-color: #c0c0c0; background-color: #000000; font-weight: bold\">U</span> <span style=\"color: #c0c0c0; text-decoration-color: #c0c0c0; background-color: #000000; font-weight: bold\">S</span>                                    \n",
              "</pre>\n"
            ]
          },
          "metadata": {}
        },
        {
          "output_type": "display_data",
          "data": {
            "text/plain": [
              "                                                                                \n",
              "              \u001b[1;30;48;2;0;255;0mA\u001b[0m \u001b[2mB\u001b[0m \u001b[2mC\u001b[0m \u001b[2mD\u001b[0m \u001b[1;30;48;2;255;255;0mE\u001b[0m \u001b[1;37;48;2;0;0;0mF\u001b[0m \u001b[1;37;48;2;0;0;0mG\u001b[0m \u001b[1;37;48;2;0;0;0mH\u001b[0m \u001b[2mI\u001b[0m \u001b[1;37;48;2;0;0;0mJ\u001b[0m \u001b[1;37;48;2;0;0;0mK\u001b[0m \u001b[2mL\u001b[0m \u001b[2mM\u001b[0m \u001b[2mN\u001b[0m \u001b[1;30;48;2;255;255;0mO\u001b[0m \u001b[2mP\u001b[0m \u001b[1;37;48;2;0;0;0mQ\u001b[0m \u001b[1;37;48;2;0;0;0mR\u001b[0m \u001b[1;37;48;2;0;0;0mS\u001b[0m \u001b[2mT\u001b[0m \u001b[1;37;48;2;0;0;0mU\u001b[0m \u001b[2mV\u001b[0m \u001b[1;37;48;2;0;0;0mW\u001b[0m \u001b[2mX\u001b[0m \u001b[2mY\u001b[0m \u001b[1;37;48;2;0;0;0mZ\u001b[0m               \n",
              "                                                                                \n",
              "                                                                                \n"
            ],
            "text/html": [
              "<pre style=\"white-space:pre;overflow-x:auto;line-height:normal;font-family:Menlo,'DejaVu Sans Mono',consolas,'Courier New',monospace\">                                                                                \n",
              "              <span style=\"color: #000000; text-decoration-color: #000000; background-color: #00ff00; font-weight: bold\">A</span> <span style=\"color: #7f7f7f; text-decoration-color: #7f7f7f\">B</span> <span style=\"color: #7f7f7f; text-decoration-color: #7f7f7f\">C</span> <span style=\"color: #7f7f7f; text-decoration-color: #7f7f7f\">D</span> <span style=\"color: #000000; text-decoration-color: #000000; background-color: #ffff00; font-weight: bold\">E</span> <span style=\"color: #c0c0c0; text-decoration-color: #c0c0c0; background-color: #000000; font-weight: bold\">F</span> <span style=\"color: #c0c0c0; text-decoration-color: #c0c0c0; background-color: #000000; font-weight: bold\">G</span> <span style=\"color: #c0c0c0; text-decoration-color: #c0c0c0; background-color: #000000; font-weight: bold\">H</span> <span style=\"color: #7f7f7f; text-decoration-color: #7f7f7f\">I</span> <span style=\"color: #c0c0c0; text-decoration-color: #c0c0c0; background-color: #000000; font-weight: bold\">J</span> <span style=\"color: #c0c0c0; text-decoration-color: #c0c0c0; background-color: #000000; font-weight: bold\">K</span> <span style=\"color: #7f7f7f; text-decoration-color: #7f7f7f\">L</span> <span style=\"color: #7f7f7f; text-decoration-color: #7f7f7f\">M</span> <span style=\"color: #7f7f7f; text-decoration-color: #7f7f7f\">N</span> <span style=\"color: #000000; text-decoration-color: #000000; background-color: #ffff00; font-weight: bold\">O</span> <span style=\"color: #7f7f7f; text-decoration-color: #7f7f7f\">P</span> <span style=\"color: #c0c0c0; text-decoration-color: #c0c0c0; background-color: #000000; font-weight: bold\">Q</span> <span style=\"color: #c0c0c0; text-decoration-color: #c0c0c0; background-color: #000000; font-weight: bold\">R</span> <span style=\"color: #c0c0c0; text-decoration-color: #c0c0c0; background-color: #000000; font-weight: bold\">S</span> <span style=\"color: #7f7f7f; text-decoration-color: #7f7f7f\">T</span> <span style=\"color: #c0c0c0; text-decoration-color: #c0c0c0; background-color: #000000; font-weight: bold\">U</span> <span style=\"color: #7f7f7f; text-decoration-color: #7f7f7f\">V</span> <span style=\"color: #c0c0c0; text-decoration-color: #c0c0c0; background-color: #000000; font-weight: bold\">W</span> <span style=\"color: #7f7f7f; text-decoration-color: #7f7f7f\">X</span> <span style=\"color: #7f7f7f; text-decoration-color: #7f7f7f\">Y</span> <span style=\"color: #c0c0c0; text-decoration-color: #c0c0c0; background-color: #000000; font-weight: bold\">Z</span>               \n",
              "                                                                                \n",
              "                                                                                \n",
              "</pre>\n"
            ]
          },
          "metadata": {}
        },
        {
          "output_type": "display_data",
          "data": {
            "text/plain": [],
            "text/html": [
              "<pre style=\"white-space:pre;overflow-x:auto;line-height:normal;font-family:Menlo,'DejaVu Sans Mono',consolas,'Courier New',monospace\"></pre>\n"
            ]
          },
          "metadata": {}
        },
        {
          "output_type": "display_data",
          "data": {
            "text/plain": [
              "\u001b[92m──────────────────────────────── \u001b[0m\u001b[38;2;0;204;255m🧙 Guess \u001b[0m\u001b[1;38;2;0;204;255m5\u001b[0m\u001b[38;2;0;204;255m 💡\u001b[0m \u001b[92m ────────────────────────────────\u001b[0m\n"
            ],
            "text/html": [
              "<pre style=\"white-space:pre;overflow-x:auto;line-height:normal;font-family:Menlo,'DejaVu Sans Mono',consolas,'Courier New',monospace\"><span style=\"color: #00ff00; text-decoration-color: #00ff00\">──────────────────────────────── </span><span style=\"color: #00ccff; text-decoration-color: #00ccff\">🧙 Guess </span><span style=\"color: #00ccff; text-decoration-color: #00ccff; font-weight: bold\">5</span><span style=\"color: #00ccff; text-decoration-color: #00ccff\"> 💡</span> <span style=\"color: #00ff00; text-decoration-color: #00ff00\"> ────────────────────────────────</span>\n",
              "</pre>\n"
            ]
          },
          "metadata": {}
        },
        {
          "output_type": "display_data",
          "data": {
            "text/plain": [
              "\n",
              "Guess word: "
            ],
            "text/html": [
              "<pre style=\"white-space:pre;overflow-x:auto;line-height:normal;font-family:Menlo,'DejaVu Sans Mono',consolas,'Courier New',monospace\">\n",
              "Guess word: </pre>\n"
            ]
          },
          "metadata": {}
        },
        {
          "name": "stdout",
          "output_type": "stream",
          "text": [
            "dfghj\n"
          ]
        },
        {
          "output_type": "display_data",
          "data": {
            "text/plain": [
              "                                   \u001b[1;37;48;2;0;0;0mH\u001b[0m \u001b[1;37;48;2;0;0;0mJ\u001b[0m \u001b[1;37;48;2;0;0;0mK\u001b[0m \u001b[1;30;48;2;255;255;0mE\u001b[0m \u001b[1;37;48;2;0;0;0mW\u001b[0m                                    \n"
            ],
            "text/html": [
              "<pre style=\"white-space:pre;overflow-x:auto;line-height:normal;font-family:Menlo,'DejaVu Sans Mono',consolas,'Courier New',monospace\">                                   <span style=\"color: #c0c0c0; text-decoration-color: #c0c0c0; background-color: #000000; font-weight: bold\">H</span> <span style=\"color: #c0c0c0; text-decoration-color: #c0c0c0; background-color: #000000; font-weight: bold\">J</span> <span style=\"color: #c0c0c0; text-decoration-color: #c0c0c0; background-color: #000000; font-weight: bold\">K</span> <span style=\"color: #000000; text-decoration-color: #000000; background-color: #ffff00; font-weight: bold\">E</span> <span style=\"color: #c0c0c0; text-decoration-color: #c0c0c0; background-color: #000000; font-weight: bold\">W</span>                                    \n",
              "</pre>\n"
            ]
          },
          "metadata": {}
        },
        {
          "output_type": "display_data",
          "data": {
            "text/plain": [
              "                                   \u001b[1;37;48;2;0;0;0mJ\u001b[0m \u001b[1;37;48;2;0;0;0mH\u001b[0m \u001b[1;37;48;2;0;0;0mG\u001b[0m \u001b[1;37;48;2;0;0;0mF\u001b[0m \u001b[1;37;48;2;0;0;0mQ\u001b[0m                                    \n"
            ],
            "text/html": [
              "<pre style=\"white-space:pre;overflow-x:auto;line-height:normal;font-family:Menlo,'DejaVu Sans Mono',consolas,'Courier New',monospace\">                                   <span style=\"color: #c0c0c0; text-decoration-color: #c0c0c0; background-color: #000000; font-weight: bold\">J</span> <span style=\"color: #c0c0c0; text-decoration-color: #c0c0c0; background-color: #000000; font-weight: bold\">H</span> <span style=\"color: #c0c0c0; text-decoration-color: #c0c0c0; background-color: #000000; font-weight: bold\">G</span> <span style=\"color: #c0c0c0; text-decoration-color: #c0c0c0; background-color: #000000; font-weight: bold\">F</span> <span style=\"color: #c0c0c0; text-decoration-color: #c0c0c0; background-color: #000000; font-weight: bold\">Q</span>                                    \n",
              "</pre>\n"
            ]
          },
          "metadata": {}
        },
        {
          "output_type": "display_data",
          "data": {
            "text/plain": [
              "                                   \u001b[1;37;48;2;0;0;0mG\u001b[0m \u001b[1;30;48;2;255;255;0mO\u001b[0m \u001b[1;37;48;2;0;0;0mR\u001b[0m \u001b[1;37;48;2;0;0;0mZ\u001b[0m \u001b[1;37;48;2;0;0;0mS\u001b[0m                                    \n"
            ],
            "text/html": [
              "<pre style=\"white-space:pre;overflow-x:auto;line-height:normal;font-family:Menlo,'DejaVu Sans Mono',consolas,'Courier New',monospace\">                                   <span style=\"color: #c0c0c0; text-decoration-color: #c0c0c0; background-color: #000000; font-weight: bold\">G</span> <span style=\"color: #000000; text-decoration-color: #000000; background-color: #ffff00; font-weight: bold\">O</span> <span style=\"color: #c0c0c0; text-decoration-color: #c0c0c0; background-color: #000000; font-weight: bold\">R</span> <span style=\"color: #c0c0c0; text-decoration-color: #c0c0c0; background-color: #000000; font-weight: bold\">Z</span> <span style=\"color: #c0c0c0; text-decoration-color: #c0c0c0; background-color: #000000; font-weight: bold\">S</span>                                    \n",
              "</pre>\n"
            ]
          },
          "metadata": {}
        },
        {
          "output_type": "display_data",
          "data": {
            "text/plain": [
              "                                   \u001b[1;30;48;2;0;255;0mA\u001b[0m \u001b[1;30;48;2;255;255;0mO\u001b[0m \u001b[1;37;48;2;0;0;0mG\u001b[0m \u001b[1;37;48;2;0;0;0mU\u001b[0m \u001b[1;37;48;2;0;0;0mS\u001b[0m                                    \n"
            ],
            "text/html": [
              "<pre style=\"white-space:pre;overflow-x:auto;line-height:normal;font-family:Menlo,'DejaVu Sans Mono',consolas,'Courier New',monospace\">                                   <span style=\"color: #000000; text-decoration-color: #000000; background-color: #00ff00; font-weight: bold\">A</span> <span style=\"color: #000000; text-decoration-color: #000000; background-color: #ffff00; font-weight: bold\">O</span> <span style=\"color: #c0c0c0; text-decoration-color: #c0c0c0; background-color: #000000; font-weight: bold\">G</span> <span style=\"color: #c0c0c0; text-decoration-color: #c0c0c0; background-color: #000000; font-weight: bold\">U</span> <span style=\"color: #c0c0c0; text-decoration-color: #c0c0c0; background-color: #000000; font-weight: bold\">S</span>                                    \n",
              "</pre>\n"
            ]
          },
          "metadata": {}
        },
        {
          "output_type": "display_data",
          "data": {
            "text/plain": [
              "                                   \u001b[1;30;48;2;255;255;0mD\u001b[0m \u001b[1;37;48;2;0;0;0mF\u001b[0m \u001b[1;37;48;2;0;0;0mG\u001b[0m \u001b[1;37;48;2;0;0;0mH\u001b[0m \u001b[1;37;48;2;0;0;0mJ\u001b[0m                                    \n"
            ],
            "text/html": [
              "<pre style=\"white-space:pre;overflow-x:auto;line-height:normal;font-family:Menlo,'DejaVu Sans Mono',consolas,'Courier New',monospace\">                                   <span style=\"color: #000000; text-decoration-color: #000000; background-color: #ffff00; font-weight: bold\">D</span> <span style=\"color: #c0c0c0; text-decoration-color: #c0c0c0; background-color: #000000; font-weight: bold\">F</span> <span style=\"color: #c0c0c0; text-decoration-color: #c0c0c0; background-color: #000000; font-weight: bold\">G</span> <span style=\"color: #c0c0c0; text-decoration-color: #c0c0c0; background-color: #000000; font-weight: bold\">H</span> <span style=\"color: #c0c0c0; text-decoration-color: #c0c0c0; background-color: #000000; font-weight: bold\">J</span>                                    \n",
              "</pre>\n"
            ]
          },
          "metadata": {}
        },
        {
          "output_type": "display_data",
          "data": {
            "text/plain": [
              "                                                                                \n",
              "              \u001b[1;30;48;2;0;255;0mA\u001b[0m \u001b[2mB\u001b[0m \u001b[2mC\u001b[0m \u001b[1;30;48;2;255;255;0mD\u001b[0m \u001b[1;30;48;2;255;255;0mE\u001b[0m \u001b[1;37;48;2;0;0;0mF\u001b[0m \u001b[1;37;48;2;0;0;0mG\u001b[0m \u001b[1;37;48;2;0;0;0mH\u001b[0m \u001b[2mI\u001b[0m \u001b[1;37;48;2;0;0;0mJ\u001b[0m \u001b[1;37;48;2;0;0;0mK\u001b[0m \u001b[2mL\u001b[0m \u001b[2mM\u001b[0m \u001b[2mN\u001b[0m \u001b[1;30;48;2;255;255;0mO\u001b[0m \u001b[2mP\u001b[0m \u001b[1;37;48;2;0;0;0mQ\u001b[0m \u001b[1;37;48;2;0;0;0mR\u001b[0m \u001b[1;37;48;2;0;0;0mS\u001b[0m \u001b[2mT\u001b[0m \u001b[1;37;48;2;0;0;0mU\u001b[0m \u001b[2mV\u001b[0m \u001b[1;37;48;2;0;0;0mW\u001b[0m \u001b[2mX\u001b[0m \u001b[2mY\u001b[0m \u001b[1;37;48;2;0;0;0mZ\u001b[0m               \n",
              "                                                                                \n",
              "                                                                                \n"
            ],
            "text/html": [
              "<pre style=\"white-space:pre;overflow-x:auto;line-height:normal;font-family:Menlo,'DejaVu Sans Mono',consolas,'Courier New',monospace\">                                                                                \n",
              "              <span style=\"color: #000000; text-decoration-color: #000000; background-color: #00ff00; font-weight: bold\">A</span> <span style=\"color: #7f7f7f; text-decoration-color: #7f7f7f\">B</span> <span style=\"color: #7f7f7f; text-decoration-color: #7f7f7f\">C</span> <span style=\"color: #000000; text-decoration-color: #000000; background-color: #ffff00; font-weight: bold\">D</span> <span style=\"color: #000000; text-decoration-color: #000000; background-color: #ffff00; font-weight: bold\">E</span> <span style=\"color: #c0c0c0; text-decoration-color: #c0c0c0; background-color: #000000; font-weight: bold\">F</span> <span style=\"color: #c0c0c0; text-decoration-color: #c0c0c0; background-color: #000000; font-weight: bold\">G</span> <span style=\"color: #c0c0c0; text-decoration-color: #c0c0c0; background-color: #000000; font-weight: bold\">H</span> <span style=\"color: #7f7f7f; text-decoration-color: #7f7f7f\">I</span> <span style=\"color: #c0c0c0; text-decoration-color: #c0c0c0; background-color: #000000; font-weight: bold\">J</span> <span style=\"color: #c0c0c0; text-decoration-color: #c0c0c0; background-color: #000000; font-weight: bold\">K</span> <span style=\"color: #7f7f7f; text-decoration-color: #7f7f7f\">L</span> <span style=\"color: #7f7f7f; text-decoration-color: #7f7f7f\">M</span> <span style=\"color: #7f7f7f; text-decoration-color: #7f7f7f\">N</span> <span style=\"color: #000000; text-decoration-color: #000000; background-color: #ffff00; font-weight: bold\">O</span> <span style=\"color: #7f7f7f; text-decoration-color: #7f7f7f\">P</span> <span style=\"color: #c0c0c0; text-decoration-color: #c0c0c0; background-color: #000000; font-weight: bold\">Q</span> <span style=\"color: #c0c0c0; text-decoration-color: #c0c0c0; background-color: #000000; font-weight: bold\">R</span> <span style=\"color: #c0c0c0; text-decoration-color: #c0c0c0; background-color: #000000; font-weight: bold\">S</span> <span style=\"color: #7f7f7f; text-decoration-color: #7f7f7f\">T</span> <span style=\"color: #c0c0c0; text-decoration-color: #c0c0c0; background-color: #000000; font-weight: bold\">U</span> <span style=\"color: #7f7f7f; text-decoration-color: #7f7f7f\">V</span> <span style=\"color: #c0c0c0; text-decoration-color: #c0c0c0; background-color: #000000; font-weight: bold\">W</span> <span style=\"color: #7f7f7f; text-decoration-color: #7f7f7f\">X</span> <span style=\"color: #7f7f7f; text-decoration-color: #7f7f7f\">Y</span> <span style=\"color: #c0c0c0; text-decoration-color: #c0c0c0; background-color: #000000; font-weight: bold\">Z</span>               \n",
              "                                                                                \n",
              "                                                                                \n",
              "</pre>\n"
            ]
          },
          "metadata": {}
        },
        {
          "output_type": "display_data",
          "data": {
            "text/plain": [],
            "text/html": [
              "<pre style=\"white-space:pre;overflow-x:auto;line-height:normal;font-family:Menlo,'DejaVu Sans Mono',consolas,'Courier New',monospace\"></pre>\n"
            ]
          },
          "metadata": {}
        },
        {
          "output_type": "display_data",
          "data": {
            "text/plain": [
              "\u001b[92m──────────────────────────────── \u001b[0m\u001b[38;2;0;204;255m🧙 Guess \u001b[0m\u001b[1;38;2;0;204;255m6\u001b[0m\u001b[38;2;0;204;255m 💡\u001b[0m \u001b[92m ────────────────────────────────\u001b[0m\n"
            ],
            "text/html": [
              "<pre style=\"white-space:pre;overflow-x:auto;line-height:normal;font-family:Menlo,'DejaVu Sans Mono',consolas,'Courier New',monospace\"><span style=\"color: #00ff00; text-decoration-color: #00ff00\">──────────────────────────────── </span><span style=\"color: #00ccff; text-decoration-color: #00ccff\">🧙 Guess </span><span style=\"color: #00ccff; text-decoration-color: #00ccff; font-weight: bold\">6</span><span style=\"color: #00ccff; text-decoration-color: #00ccff\"> 💡</span> <span style=\"color: #00ff00; text-decoration-color: #00ff00\"> ────────────────────────────────</span>\n",
              "</pre>\n"
            ]
          },
          "metadata": {}
        },
        {
          "output_type": "display_data",
          "data": {
            "text/plain": [
              "\n",
              "Guess word: "
            ],
            "text/html": [
              "<pre style=\"white-space:pre;overflow-x:auto;line-height:normal;font-family:Menlo,'DejaVu Sans Mono',consolas,'Courier New',monospace\">\n",
              "Guess word: </pre>\n"
            ]
          },
          "metadata": {}
        },
        {
          "name": "stdout",
          "output_type": "stream",
          "text": [
            "ewhgk\n"
          ]
        },
        {
          "output_type": "display_data",
          "data": {
            "text/plain": [
              "                                   \u001b[1;37;48;2;0;0;0mH\u001b[0m \u001b[1;37;48;2;0;0;0mJ\u001b[0m \u001b[1;37;48;2;0;0;0mK\u001b[0m \u001b[1;30;48;2;255;255;0mE\u001b[0m \u001b[1;37;48;2;0;0;0mW\u001b[0m                                    \n"
            ],
            "text/html": [
              "<pre style=\"white-space:pre;overflow-x:auto;line-height:normal;font-family:Menlo,'DejaVu Sans Mono',consolas,'Courier New',monospace\">                                   <span style=\"color: #c0c0c0; text-decoration-color: #c0c0c0; background-color: #000000; font-weight: bold\">H</span> <span style=\"color: #c0c0c0; text-decoration-color: #c0c0c0; background-color: #000000; font-weight: bold\">J</span> <span style=\"color: #c0c0c0; text-decoration-color: #c0c0c0; background-color: #000000; font-weight: bold\">K</span> <span style=\"color: #000000; text-decoration-color: #000000; background-color: #ffff00; font-weight: bold\">E</span> <span style=\"color: #c0c0c0; text-decoration-color: #c0c0c0; background-color: #000000; font-weight: bold\">W</span>                                    \n",
              "</pre>\n"
            ]
          },
          "metadata": {}
        },
        {
          "output_type": "display_data",
          "data": {
            "text/plain": [
              "                                   \u001b[1;37;48;2;0;0;0mJ\u001b[0m \u001b[1;37;48;2;0;0;0mH\u001b[0m \u001b[1;37;48;2;0;0;0mG\u001b[0m \u001b[1;37;48;2;0;0;0mF\u001b[0m \u001b[1;37;48;2;0;0;0mQ\u001b[0m                                    \n"
            ],
            "text/html": [
              "<pre style=\"white-space:pre;overflow-x:auto;line-height:normal;font-family:Menlo,'DejaVu Sans Mono',consolas,'Courier New',monospace\">                                   <span style=\"color: #c0c0c0; text-decoration-color: #c0c0c0; background-color: #000000; font-weight: bold\">J</span> <span style=\"color: #c0c0c0; text-decoration-color: #c0c0c0; background-color: #000000; font-weight: bold\">H</span> <span style=\"color: #c0c0c0; text-decoration-color: #c0c0c0; background-color: #000000; font-weight: bold\">G</span> <span style=\"color: #c0c0c0; text-decoration-color: #c0c0c0; background-color: #000000; font-weight: bold\">F</span> <span style=\"color: #c0c0c0; text-decoration-color: #c0c0c0; background-color: #000000; font-weight: bold\">Q</span>                                    \n",
              "</pre>\n"
            ]
          },
          "metadata": {}
        },
        {
          "output_type": "display_data",
          "data": {
            "text/plain": [
              "                                   \u001b[1;37;48;2;0;0;0mG\u001b[0m \u001b[1;30;48;2;255;255;0mO\u001b[0m \u001b[1;37;48;2;0;0;0mR\u001b[0m \u001b[1;37;48;2;0;0;0mZ\u001b[0m \u001b[1;37;48;2;0;0;0mS\u001b[0m                                    \n"
            ],
            "text/html": [
              "<pre style=\"white-space:pre;overflow-x:auto;line-height:normal;font-family:Menlo,'DejaVu Sans Mono',consolas,'Courier New',monospace\">                                   <span style=\"color: #c0c0c0; text-decoration-color: #c0c0c0; background-color: #000000; font-weight: bold\">G</span> <span style=\"color: #000000; text-decoration-color: #000000; background-color: #ffff00; font-weight: bold\">O</span> <span style=\"color: #c0c0c0; text-decoration-color: #c0c0c0; background-color: #000000; font-weight: bold\">R</span> <span style=\"color: #c0c0c0; text-decoration-color: #c0c0c0; background-color: #000000; font-weight: bold\">Z</span> <span style=\"color: #c0c0c0; text-decoration-color: #c0c0c0; background-color: #000000; font-weight: bold\">S</span>                                    \n",
              "</pre>\n"
            ]
          },
          "metadata": {}
        },
        {
          "output_type": "display_data",
          "data": {
            "text/plain": [
              "                                   \u001b[1;30;48;2;0;255;0mA\u001b[0m \u001b[1;30;48;2;255;255;0mO\u001b[0m \u001b[1;37;48;2;0;0;0mG\u001b[0m \u001b[1;37;48;2;0;0;0mU\u001b[0m \u001b[1;37;48;2;0;0;0mS\u001b[0m                                    \n"
            ],
            "text/html": [
              "<pre style=\"white-space:pre;overflow-x:auto;line-height:normal;font-family:Menlo,'DejaVu Sans Mono',consolas,'Courier New',monospace\">                                   <span style=\"color: #000000; text-decoration-color: #000000; background-color: #00ff00; font-weight: bold\">A</span> <span style=\"color: #000000; text-decoration-color: #000000; background-color: #ffff00; font-weight: bold\">O</span> <span style=\"color: #c0c0c0; text-decoration-color: #c0c0c0; background-color: #000000; font-weight: bold\">G</span> <span style=\"color: #c0c0c0; text-decoration-color: #c0c0c0; background-color: #000000; font-weight: bold\">U</span> <span style=\"color: #c0c0c0; text-decoration-color: #c0c0c0; background-color: #000000; font-weight: bold\">S</span>                                    \n",
              "</pre>\n"
            ]
          },
          "metadata": {}
        },
        {
          "output_type": "display_data",
          "data": {
            "text/plain": [
              "                                   \u001b[1;30;48;2;255;255;0mD\u001b[0m \u001b[1;37;48;2;0;0;0mF\u001b[0m \u001b[1;37;48;2;0;0;0mG\u001b[0m \u001b[1;37;48;2;0;0;0mH\u001b[0m \u001b[1;37;48;2;0;0;0mJ\u001b[0m                                    \n"
            ],
            "text/html": [
              "<pre style=\"white-space:pre;overflow-x:auto;line-height:normal;font-family:Menlo,'DejaVu Sans Mono',consolas,'Courier New',monospace\">                                   <span style=\"color: #000000; text-decoration-color: #000000; background-color: #ffff00; font-weight: bold\">D</span> <span style=\"color: #c0c0c0; text-decoration-color: #c0c0c0; background-color: #000000; font-weight: bold\">F</span> <span style=\"color: #c0c0c0; text-decoration-color: #c0c0c0; background-color: #000000; font-weight: bold\">G</span> <span style=\"color: #c0c0c0; text-decoration-color: #c0c0c0; background-color: #000000; font-weight: bold\">H</span> <span style=\"color: #c0c0c0; text-decoration-color: #c0c0c0; background-color: #000000; font-weight: bold\">J</span>                                    \n",
              "</pre>\n"
            ]
          },
          "metadata": {}
        },
        {
          "output_type": "display_data",
          "data": {
            "text/plain": [
              "                                   \u001b[1;30;48;2;255;255;0mE\u001b[0m \u001b[1;37;48;2;0;0;0mW\u001b[0m \u001b[1;37;48;2;0;0;0mH\u001b[0m \u001b[1;37;48;2;0;0;0mG\u001b[0m \u001b[1;37;48;2;0;0;0mK\u001b[0m                                    \n"
            ],
            "text/html": [
              "<pre style=\"white-space:pre;overflow-x:auto;line-height:normal;font-family:Menlo,'DejaVu Sans Mono',consolas,'Courier New',monospace\">                                   <span style=\"color: #000000; text-decoration-color: #000000; background-color: #ffff00; font-weight: bold\">E</span> <span style=\"color: #c0c0c0; text-decoration-color: #c0c0c0; background-color: #000000; font-weight: bold\">W</span> <span style=\"color: #c0c0c0; text-decoration-color: #c0c0c0; background-color: #000000; font-weight: bold\">H</span> <span style=\"color: #c0c0c0; text-decoration-color: #c0c0c0; background-color: #000000; font-weight: bold\">G</span> <span style=\"color: #c0c0c0; text-decoration-color: #c0c0c0; background-color: #000000; font-weight: bold\">K</span>                                    \n",
              "</pre>\n"
            ]
          },
          "metadata": {}
        },
        {
          "output_type": "display_data",
          "data": {
            "text/plain": [
              "                                                                                \n",
              "              \u001b[1;30;48;2;0;255;0mA\u001b[0m \u001b[2mB\u001b[0m \u001b[2mC\u001b[0m \u001b[1;30;48;2;255;255;0mD\u001b[0m \u001b[1;30;48;2;255;255;0mE\u001b[0m \u001b[1;37;48;2;0;0;0mF\u001b[0m \u001b[1;37;48;2;0;0;0mG\u001b[0m \u001b[1;37;48;2;0;0;0mH\u001b[0m \u001b[2mI\u001b[0m \u001b[1;37;48;2;0;0;0mJ\u001b[0m \u001b[1;37;48;2;0;0;0mK\u001b[0m \u001b[2mL\u001b[0m \u001b[2mM\u001b[0m \u001b[2mN\u001b[0m \u001b[1;30;48;2;255;255;0mO\u001b[0m \u001b[2mP\u001b[0m \u001b[1;37;48;2;0;0;0mQ\u001b[0m \u001b[1;37;48;2;0;0;0mR\u001b[0m \u001b[1;37;48;2;0;0;0mS\u001b[0m \u001b[2mT\u001b[0m \u001b[1;37;48;2;0;0;0mU\u001b[0m \u001b[2mV\u001b[0m \u001b[1;37;48;2;0;0;0mW\u001b[0m \u001b[2mX\u001b[0m \u001b[2mY\u001b[0m \u001b[1;37;48;2;0;0;0mZ\u001b[0m               \n",
              "                                                                                \n",
              "                                                                                \n"
            ],
            "text/html": [
              "<pre style=\"white-space:pre;overflow-x:auto;line-height:normal;font-family:Menlo,'DejaVu Sans Mono',consolas,'Courier New',monospace\">                                                                                \n",
              "              <span style=\"color: #000000; text-decoration-color: #000000; background-color: #00ff00; font-weight: bold\">A</span> <span style=\"color: #7f7f7f; text-decoration-color: #7f7f7f\">B</span> <span style=\"color: #7f7f7f; text-decoration-color: #7f7f7f\">C</span> <span style=\"color: #000000; text-decoration-color: #000000; background-color: #ffff00; font-weight: bold\">D</span> <span style=\"color: #000000; text-decoration-color: #000000; background-color: #ffff00; font-weight: bold\">E</span> <span style=\"color: #c0c0c0; text-decoration-color: #c0c0c0; background-color: #000000; font-weight: bold\">F</span> <span style=\"color: #c0c0c0; text-decoration-color: #c0c0c0; background-color: #000000; font-weight: bold\">G</span> <span style=\"color: #c0c0c0; text-decoration-color: #c0c0c0; background-color: #000000; font-weight: bold\">H</span> <span style=\"color: #7f7f7f; text-decoration-color: #7f7f7f\">I</span> <span style=\"color: #c0c0c0; text-decoration-color: #c0c0c0; background-color: #000000; font-weight: bold\">J</span> <span style=\"color: #c0c0c0; text-decoration-color: #c0c0c0; background-color: #000000; font-weight: bold\">K</span> <span style=\"color: #7f7f7f; text-decoration-color: #7f7f7f\">L</span> <span style=\"color: #7f7f7f; text-decoration-color: #7f7f7f\">M</span> <span style=\"color: #7f7f7f; text-decoration-color: #7f7f7f\">N</span> <span style=\"color: #000000; text-decoration-color: #000000; background-color: #ffff00; font-weight: bold\">O</span> <span style=\"color: #7f7f7f; text-decoration-color: #7f7f7f\">P</span> <span style=\"color: #c0c0c0; text-decoration-color: #c0c0c0; background-color: #000000; font-weight: bold\">Q</span> <span style=\"color: #c0c0c0; text-decoration-color: #c0c0c0; background-color: #000000; font-weight: bold\">R</span> <span style=\"color: #c0c0c0; text-decoration-color: #c0c0c0; background-color: #000000; font-weight: bold\">S</span> <span style=\"color: #7f7f7f; text-decoration-color: #7f7f7f\">T</span> <span style=\"color: #c0c0c0; text-decoration-color: #c0c0c0; background-color: #000000; font-weight: bold\">U</span> <span style=\"color: #7f7f7f; text-decoration-color: #7f7f7f\">V</span> <span style=\"color: #c0c0c0; text-decoration-color: #c0c0c0; background-color: #000000; font-weight: bold\">W</span> <span style=\"color: #7f7f7f; text-decoration-color: #7f7f7f\">X</span> <span style=\"color: #7f7f7f; text-decoration-color: #7f7f7f\">Y</span> <span style=\"color: #c0c0c0; text-decoration-color: #c0c0c0; background-color: #000000; font-weight: bold\">Z</span>               \n",
              "                                                                                \n",
              "                                                                                \n",
              "</pre>\n"
            ]
          },
          "metadata": {}
        },
        {
          "output_type": "display_data",
          "data": {
            "text/plain": [
              "\n",
              "\u001b[1;30;48;2;255;221;221mSorry, the word was ABODE\u001b[0m\n"
            ],
            "text/html": [
              "<pre style=\"white-space:pre;overflow-x:auto;line-height:normal;font-family:Menlo,'DejaVu Sans Mono',consolas,'Courier New',monospace\">\n",
              "<span style=\"color: #000000; text-decoration-color: #000000; background-color: #ffdddd; font-weight: bold\">Sorry, the word was ABODE</span>\n",
              "</pre>\n"
            ]
          },
          "metadata": {}
        }
      ],
      "source": [
        "# This is the start of a longer word list.\n",
        "\n",
        "wordle_word_list = [\n",
        "    'aback', 'abase', 'abate', 'abbey', 'abbot', 'abhor', 'abide', 'abled', 'abode', 'abort',\n",
        "    'about', 'above', 'abuse', 'abyss', 'acorn', 'acrid', 'actor', 'acute', 'adage', 'adapt',\n",
        "    'adept', 'admin', 'admit', 'adobe', 'adopt', 'adore', 'adorn', 'adult', 'affix', 'afire',\n",
        "    'afoot', 'afoul', 'after', 'again', 'agape', 'agate', 'agent', 'agile', 'aging', 'aglow',\n",
        "    'agony', 'agora', 'agree', 'ahead', 'aider', 'aisle', 'alarm', 'album', 'alert', 'algae',\n",
        "    'alibi', 'alien', 'align', 'alike', 'alive', 'allay', 'alley', 'allot', 'allow', 'alloy',\n",
        "    'aloft', 'alone', 'along', 'aloof', 'aloud', 'alpha', 'altar', 'alter', 'amass', 'amaze',\n",
        "    'amber', 'amble', 'amend', 'amiss', 'amity', 'among', 'ample', 'amply', 'amuse', 'angel',\n",
        "    'anger', 'angle', 'angry', 'angst', 'anime', 'ankle', 'annex', 'annoy', 'annul', 'anode',\n",
        "    'antic', 'anvil', 'aorta', 'apart', 'aphid', 'aping', 'apnea', 'apple', 'apply', 'apron',\n",
        "    'aptly', 'arbor', 'ardor', 'arena', 'argue', 'arise', 'armor', 'aroma', 'arose', 'array',\n",
        "    'arrow', 'arson', 'artsy', 'ascot', 'ashen', 'aside', 'askew', 'assay', 'asset', 'atoll',\n",
        "    'atone', 'attic', 'audio', 'audit', 'augur', 'aunty', 'avail', 'avert', 'avian', 'avoid',\n",
        "    'await', 'awake', 'award', 'aware', 'awash', 'awful', 'awoke', 'axial', 'axiom', 'axion',\n",
        "    'azure']\n",
        "\n",
        "\n",
        "\n",
        "# wyrdl.py\n",
        "\n",
        "import contextlib\n",
        "import pathlib\n",
        "import random\n",
        "from string import ascii_letters, ascii_uppercase\n",
        "\n",
        "from rich.console import Console\n",
        "from rich.theme import Theme\n",
        "\n",
        "from typing import List, Tuple, Dict\n",
        "\n",
        "console = Console(width=80, theme=Theme({\"warning\": \"red on yellow\"}))\n",
        "\n",
        "NUM_LETTERS = 5\n",
        "NUM_GUESSES = 6\n",
        "# WORDS_PATH = pathlib.Path(__file__).parent / \"wordlist.txt\"\n",
        "WORDS_LIST = wordle_word_list\n",
        "# BLANK = \"_\" * NUM_LETTERS\n",
        "\n",
        "# STYLES map scores to styles. E.g., the score 'g' (for 'green') is mapped to the style \"bold black on #00FF00\".\n",
        "STYLES = {'g': \"bold black on #00FF00\",\n",
        "          'y': \"bold black on #FFFF00\",\n",
        "          '#': \"bold white on #000000\",\n",
        "          '_': \"dim\"\n",
        "          }\n",
        "\n",
        "# SCORE assigns an integer to each score so that they can be compared with '>'.\n",
        "# The ordering is '_#yg'.\n",
        "SCORE_RANKING: Dict[str, int] = {score: rank for rank, score in enumerate('_#yg')}\n",
        "\n",
        "verbose = False\n",
        "\n",
        "def main(verbose=False):\n",
        "    verbose = verbose\n",
        "\n",
        "    # Pre-process\n",
        "    # secret_word = get_random_word(WORDS_PATH.read_text(encoding=\"utf-8\").split(\"\\n\"))\n",
        "    secret_word = get_random_word(WORDS_LIST)\n",
        "    if verbose:\n",
        "        print(secret_word)\n",
        "\n",
        "    # guesses = [BLANK] * NUM_GUESSES -- No longer used\n",
        "\n",
        "    # guesses is a list of the guesses\n",
        "    guesses = []\n",
        "    # styled_guesses is a list of strings reflecting the guesses as styled\n",
        "    styled_guesses = []\n",
        "\n",
        "    # letter_status is a dictionary of letters mapped to a (score, style) tuple.\n",
        "    # For any letter, the score and style are updated to the highest score found.\n",
        "    letter_status: Dict[str, Tuple[str, str]] = {letter: ('_', styled_letter_and_score(letter, '_')) for letter in ascii_uppercase}\n",
        "\n",
        "    # Process (main loop)\n",
        "    with contextlib.suppress(KeyboardInterrupt):\n",
        "        for idx in range(1, NUM_GUESSES + 1):\n",
        "            refresh_page(headline=f\"Guess {idx}\")\n",
        "            guesses, styled_guesses, letter_status = take_a_guess(secret_word, guesses, styled_guesses, letter_status)\n",
        "            show_guesses_and_letter_status(styled_guesses, letter_status)\n",
        "            if guesses[-1] == secret_word:\n",
        "                break\n",
        "\n",
        "    # Post-process\n",
        "    game_over(styled_guesses, secret_word, letter_status, guesses[-1]==secret_word)\n",
        "\n",
        "def game_over(guesses, word, letter_status, guessed_correctly):\n",
        "    # refresh_page(headline=\"Game Over\")\n",
        "    # show_guesses_and_letter_status(guesses, letter_status)\n",
        "\n",
        "    if guessed_correctly:\n",
        "        console.print(f\"\\n[bold black on #ddffdd]Correct, the word is {word}[/]\")\n",
        "    else:\n",
        "        console.print(f\"\\n[bold black on #ffdddd]Sorry, the word was {word}[/]\")\n",
        "\n",
        "def get_random_word(word_list):\n",
        "    if words := [word.upper() for word in word_list\n",
        "                    if len(word) == NUM_LETTERS and\n",
        "                       all(letter in ascii_letters for letter in word)]:\n",
        "        return random.choice(words)\n",
        "    else:\n",
        "        console.print(\n",
        "            f\"No words of length {NUM_LETTERS} in the word list\",\n",
        "            style=\"warning\",\n",
        "        )\n",
        "        raise SystemExit()\n",
        "\n",
        "def guess_a_word(previous_guesses) -> str:\n",
        "    guess = console.input(\"\\nGuess word: \").upper()\n",
        "\n",
        "    if guess in previous_guesses:\n",
        "        console.print(f\"You've already guessed {guess}.\", style=\"warning\")\n",
        "        return guess_a_word(previous_guesses)\n",
        "\n",
        "    if len(guess) != NUM_LETTERS:\n",
        "        console.print(\n",
        "            f\"Your guess must be {NUM_LETTERS} letters.\", style=\"warning\"\n",
        "        )\n",
        "        return guess_a_word(previous_guesses)\n",
        "\n",
        "    if any((invalid := letter) not in ascii_letters for letter in guess):\n",
        "        console.print(\n",
        "            f\"Invalid letter: '{invalid}'. Please use English letters.\", style=\"warning\",\n",
        "        )\n",
        "        return guess_a_word(previous_guesses)\n",
        "\n",
        "    return guess\n",
        "\n",
        "def refresh_page(headline):\n",
        "    console.clear()\n",
        "    console.rule(f\"[#00CCFF]:mage: {headline} :bulb:[/]\\n\")\n",
        "\n",
        "def score_a_guess(secret_word, guess) -> str:\n",
        "    '''\n",
        "    Build a list with one char for each guess element.\n",
        "    g = Letter in Correct position (green);\n",
        "    y = Letter in Incorrect position (yellow);\n",
        "    # = Letter not in secret_word. (These are the gray results. Can't use 'g' since we use it for green)\n",
        "\n",
        "    In the following example: secret_word    = 'hpaay'\n",
        "                              guess     = 'aaapz'\n",
        "                              -> score  = 'y#gy#'\n",
        "\n",
        "    The third letter in both the secret_word and the guess is \"a\".\n",
        "        So the third letter in the score must be \"g\".\n",
        "        (The matching letters must be determined first.)\n",
        "    The first letter in the guess, 'a', is associated with the fourth letter in the secret_word, 'a'.\n",
        "        So the first letter in the score is \"y\".\n",
        "    The second letter in the guess, 'a', has nothing in secret_word to be associated with.\n",
        "        So the second letter in the score is \"#\".\n",
        "    The other two letter in the score should be self explanatory.\n",
        "    '''\n",
        "\n",
        "    # Generate the score list with the letters in the correct position marked 'g'.\n",
        "    # All non-green elements are marked '#'. These will be changed to 'y' later if appropriate.\n",
        "    score = [('g' if sec_ltr == guess_ltr else '#') for sec_ltr, guess_ltr in zip(secret_word, guess)]\n",
        "\n",
        "    # Generate a list of the \"holes,\" i.e., secret_word letters that do not have correct corresponding guess letters.\n",
        "    secret_word_holes = [sec_ltr for sec_ltr, score_ltr in zip(secret_word, score) if score_ltr != 'g']\n",
        "\n",
        "    if verbose: print(f'{secret_word_holes = }')\n",
        "\n",
        "    # For each available secret_word hole find a matching guess letters. Ignore guess letters that are paired with\n",
        "    # their secret_word letters. Score the first match as 'y' and don't look further.\n",
        "    for ltr in secret_word_holes:\n",
        "        for i in range(len(score)):\n",
        "            # Have we found a hole-filling letter in guess that is not otherwise committed?\n",
        "            # If so, mark it 'y'. Since we have now filled this hole, go on to the next hole.\n",
        "            if guess[i] == ltr and score[i] == '#':\n",
        "                score[i] = 'y'\n",
        "                break\n",
        "\n",
        "    # Return score as a string\n",
        "    score_string = ''.join(score)\n",
        "    if verbose:\n",
        "        print(f'\\n\\t{score_string = }\\n\\n')\n",
        "    return score_string\n",
        "\n",
        "def show_guesses_and_letter_status(styled_guesses, letter_status):\n",
        "    for styled_guess in styled_guesses:\n",
        "        console.print(\"\".join(styled_guess), justify=\"center\")\n",
        "\n",
        "    console.print(\"\\n\" + \" \".join([letter_status[letter][1] for letter in letter_status]) + \"\\n\\n\", justify=\"center\")\n",
        "\n",
        "def styled_letter_and_score(letter, score):\n",
        "    return f\"[{STYLES[score]}]{letter}[/]\"\n",
        "\n",
        "def take_a_guess(secret_word: str,\n",
        "                 guesses: List[str],\n",
        "                 styled_guesses: List[str],\n",
        "                 letter_status: Dict[str, Tuple[str, str]]) -> Tuple[List[str], List[str], Dict[str, Tuple[str, str]]]:\n",
        "\n",
        "    guess = guess_a_word(previous_guesses=guesses[:len(guesses)])\n",
        "    guesses.append(guess)\n",
        "    score = score_a_guess(secret_word, guess)\n",
        "    styled_letters = [(letter, score, STYLES[score]) for letter, score in zip(guess, score)]\n",
        "    # styled_guess = [f\"{styled_letter_and_score(letter, score)}\" for letter, score in zip(guess, score)]\n",
        "    styled_guess = [f\"[{style}]{letter}[/]\" for letter, _, style in styled_letters]\n",
        "    styled_guesses.append(\" \".join(styled_guess))\n",
        "\n",
        "    for letter, score, style in styled_letters:\n",
        "        if SCORE_RANKING[score] > SCORE_RANKING[letter_status[letter][0]]:\n",
        "            letter_status[letter] = (score, styled_letter_and_score(letter, score))\n",
        "\n",
        "    return guesses, styled_guesses, letter_status\n",
        "\n",
        "main()"
      ]
    }
  ]
}