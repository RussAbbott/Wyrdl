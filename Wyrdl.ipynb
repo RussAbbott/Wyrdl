{
  "nbformat": 4,
  "nbformat_minor": 0,
  "metadata": {
    "colab": {
      "provenance": [],
      "authorship_tag": "ABX9TyOagQQ/TqxVIkiNoG0qRmYJ",
      "include_colab_link": true
    },
    "kernelspec": {
      "name": "python3",
      "display_name": "Python 3"
    },
    "language_info": {
      "name": "python"
    }
  },
  "cells": [
    {
      "cell_type": "markdown",
      "metadata": {
        "id": "view-in-github",
        "colab_type": "text"
      },
      "source": [
        "<a href=\"https://colab.research.google.com/github/RussAbbott/Wyrdl/blob/main/Wyrdl.ipynb\" target=\"_parent\"><img src=\"https://colab.research.google.com/assets/colab-badge.svg\" alt=\"Open In Colab\"/></a>"
      ]
    },
    {
      "cell_type": "code",
      "execution_count": 4,
      "metadata": {
        "colab": {
          "base_uri": "https://localhost:8080/",
          "height": 484
        },
        "id": "6nSwKg5OLqJp",
        "outputId": "00d08c53-90ca-457c-e1e3-1ad72029a07d"
      },
      "outputs": [
        {
          "output_type": "display_data",
          "data": {
            "text/plain": [],
            "text/html": [
              "<pre style=\"white-space:pre;overflow-x:auto;line-height:normal;font-family:Menlo,'DejaVu Sans Mono',consolas,'Courier New',monospace\"></pre>\n"
            ]
          },
          "metadata": {}
        },
        {
          "output_type": "display_data",
          "data": {
            "text/plain": [
              "\u001b[92m──────────────────────────────── \u001b[0m\u001b[38;2;0;204;255m🧙 Guess \u001b[0m\u001b[1;38;2;0;204;255m1\u001b[0m\u001b[38;2;0;204;255m 💡\u001b[0m \u001b[92m ────────────────────────────────\u001b[0m\n"
            ],
            "text/html": [
              "<pre style=\"white-space:pre;overflow-x:auto;line-height:normal;font-family:Menlo,'DejaVu Sans Mono',consolas,'Courier New',monospace\"><span style=\"color: #00ff00; text-decoration-color: #00ff00\">──────────────────────────────── </span><span style=\"color: #00ccff; text-decoration-color: #00ccff\">🧙 Guess </span><span style=\"color: #00ccff; text-decoration-color: #00ccff; font-weight: bold\">1</span><span style=\"color: #00ccff; text-decoration-color: #00ccff\"> 💡</span> <span style=\"color: #00ff00; text-decoration-color: #00ff00\"> ────────────────────────────────</span>\n",
              "</pre>\n"
            ]
          },
          "metadata": {}
        },
        {
          "output_type": "display_data",
          "data": {
            "text/plain": [
              "\n",
              "Guess word: "
            ],
            "text/html": [
              "<pre style=\"white-space:pre;overflow-x:auto;line-height:normal;font-family:Menlo,'DejaVu Sans Mono',consolas,'Courier New',monospace\">\n",
              "Guess word: </pre>\n"
            ]
          },
          "metadata": {}
        },
        {
          "name": "stdout",
          "output_type": "stream",
          "text": [
            "seuio\n"
          ]
        },
        {
          "output_type": "display_data",
          "data": {
            "text/plain": [
              "                                   \u001b[1;30;48;2;255;255;0mS\u001b[0m \u001b[1;30;48;2;255;255;0mE\u001b[0m \u001b[1;37;48;2;0;0;0mU\u001b[0m \u001b[1;37;48;2;0;0;0mI\u001b[0m \u001b[1;37;48;2;0;0;0mO\u001b[0m                                    \n"
            ],
            "text/html": [
              "<pre style=\"white-space:pre;overflow-x:auto;line-height:normal;font-family:Menlo,'DejaVu Sans Mono',consolas,'Courier New',monospace\">                                   <span style=\"color: #000000; text-decoration-color: #000000; background-color: #ffff00; font-weight: bold\">S</span> <span style=\"color: #000000; text-decoration-color: #000000; background-color: #ffff00; font-weight: bold\">E</span> <span style=\"color: #c0c0c0; text-decoration-color: #c0c0c0; background-color: #000000; font-weight: bold\">U</span> <span style=\"color: #c0c0c0; text-decoration-color: #c0c0c0; background-color: #000000; font-weight: bold\">I</span> <span style=\"color: #c0c0c0; text-decoration-color: #c0c0c0; background-color: #000000; font-weight: bold\">O</span>                                    \n",
              "</pre>\n"
            ]
          },
          "metadata": {}
        },
        {
          "output_type": "display_data",
          "data": {
            "text/plain": [
              "                                                                                \n",
              "              \u001b[2mA\u001b[0m \u001b[2mB\u001b[0m \u001b[2mC\u001b[0m \u001b[2mD\u001b[0m \u001b[1;30;48;2;255;255;0mE\u001b[0m \u001b[2mF\u001b[0m \u001b[2mG\u001b[0m \u001b[2mH\u001b[0m \u001b[1;37;48;2;0;0;0mI\u001b[0m \u001b[2mJ\u001b[0m \u001b[2mK\u001b[0m \u001b[2mL\u001b[0m \u001b[2mM\u001b[0m \u001b[2mN\u001b[0m \u001b[1;37;48;2;0;0;0mO\u001b[0m \u001b[2mP\u001b[0m \u001b[2mQ\u001b[0m \u001b[2mR\u001b[0m \u001b[1;30;48;2;255;255;0mS\u001b[0m \u001b[2mT\u001b[0m \u001b[1;37;48;2;0;0;0mU\u001b[0m \u001b[2mV\u001b[0m \u001b[2mW\u001b[0m \u001b[2mX\u001b[0m \u001b[2mY\u001b[0m \u001b[2mZ\u001b[0m               \n",
              "                                                                                \n",
              "                                                                                \n"
            ],
            "text/html": [
              "<pre style=\"white-space:pre;overflow-x:auto;line-height:normal;font-family:Menlo,'DejaVu Sans Mono',consolas,'Courier New',monospace\">                                                                                \n",
              "              <span style=\"color: #7f7f7f; text-decoration-color: #7f7f7f\">A</span> <span style=\"color: #7f7f7f; text-decoration-color: #7f7f7f\">B</span> <span style=\"color: #7f7f7f; text-decoration-color: #7f7f7f\">C</span> <span style=\"color: #7f7f7f; text-decoration-color: #7f7f7f\">D</span> <span style=\"color: #000000; text-decoration-color: #000000; background-color: #ffff00; font-weight: bold\">E</span> <span style=\"color: #7f7f7f; text-decoration-color: #7f7f7f\">F</span> <span style=\"color: #7f7f7f; text-decoration-color: #7f7f7f\">G</span> <span style=\"color: #7f7f7f; text-decoration-color: #7f7f7f\">H</span> <span style=\"color: #c0c0c0; text-decoration-color: #c0c0c0; background-color: #000000; font-weight: bold\">I</span> <span style=\"color: #7f7f7f; text-decoration-color: #7f7f7f\">J</span> <span style=\"color: #7f7f7f; text-decoration-color: #7f7f7f\">K</span> <span style=\"color: #7f7f7f; text-decoration-color: #7f7f7f\">L</span> <span style=\"color: #7f7f7f; text-decoration-color: #7f7f7f\">M</span> <span style=\"color: #7f7f7f; text-decoration-color: #7f7f7f\">N</span> <span style=\"color: #c0c0c0; text-decoration-color: #c0c0c0; background-color: #000000; font-weight: bold\">O</span> <span style=\"color: #7f7f7f; text-decoration-color: #7f7f7f\">P</span> <span style=\"color: #7f7f7f; text-decoration-color: #7f7f7f\">Q</span> <span style=\"color: #7f7f7f; text-decoration-color: #7f7f7f\">R</span> <span style=\"color: #000000; text-decoration-color: #000000; background-color: #ffff00; font-weight: bold\">S</span> <span style=\"color: #7f7f7f; text-decoration-color: #7f7f7f\">T</span> <span style=\"color: #c0c0c0; text-decoration-color: #c0c0c0; background-color: #000000; font-weight: bold\">U</span> <span style=\"color: #7f7f7f; text-decoration-color: #7f7f7f\">V</span> <span style=\"color: #7f7f7f; text-decoration-color: #7f7f7f\">W</span> <span style=\"color: #7f7f7f; text-decoration-color: #7f7f7f\">X</span> <span style=\"color: #7f7f7f; text-decoration-color: #7f7f7f\">Y</span> <span style=\"color: #7f7f7f; text-decoration-color: #7f7f7f\">Z</span>               \n",
              "                                                                                \n",
              "                                                                                \n",
              "</pre>\n"
            ]
          },
          "metadata": {}
        },
        {
          "output_type": "display_data",
          "data": {
            "text/plain": [],
            "text/html": [
              "<pre style=\"white-space:pre;overflow-x:auto;line-height:normal;font-family:Menlo,'DejaVu Sans Mono',consolas,'Courier New',monospace\"></pre>\n"
            ]
          },
          "metadata": {}
        },
        {
          "output_type": "display_data",
          "data": {
            "text/plain": [
              "\u001b[92m──────────────────────────────── \u001b[0m\u001b[38;2;0;204;255m🧙 Guess \u001b[0m\u001b[1;38;2;0;204;255m2\u001b[0m\u001b[38;2;0;204;255m 💡\u001b[0m \u001b[92m ────────────────────────────────\u001b[0m\n"
            ],
            "text/html": [
              "<pre style=\"white-space:pre;overflow-x:auto;line-height:normal;font-family:Menlo,'DejaVu Sans Mono',consolas,'Courier New',monospace\"><span style=\"color: #00ff00; text-decoration-color: #00ff00\">──────────────────────────────── </span><span style=\"color: #00ccff; text-decoration-color: #00ccff\">🧙 Guess </span><span style=\"color: #00ccff; text-decoration-color: #00ccff; font-weight: bold\">2</span><span style=\"color: #00ccff; text-decoration-color: #00ccff\"> 💡</span> <span style=\"color: #00ff00; text-decoration-color: #00ff00\"> ────────────────────────────────</span>\n",
              "</pre>\n"
            ]
          },
          "metadata": {}
        },
        {
          "output_type": "display_data",
          "data": {
            "text/plain": [
              "\n",
              "Guess word: "
            ],
            "text/html": [
              "<pre style=\"white-space:pre;overflow-x:auto;line-height:normal;font-family:Menlo,'DejaVu Sans Mono',consolas,'Courier New',monospace\">\n",
              "Guess word: </pre>\n"
            ]
          },
          "metadata": {}
        },
        {
          "name": "stdout",
          "output_type": "stream",
          "text": [
            "angle\n"
          ]
        },
        {
          "output_type": "display_data",
          "data": {
            "text/plain": [
              "                                   \u001b[1;30;48;2;255;255;0mS\u001b[0m \u001b[1;30;48;2;255;255;0mE\u001b[0m \u001b[1;37;48;2;0;0;0mU\u001b[0m \u001b[1;37;48;2;0;0;0mI\u001b[0m \u001b[1;37;48;2;0;0;0mO\u001b[0m                                    \n"
            ],
            "text/html": [
              "<pre style=\"white-space:pre;overflow-x:auto;line-height:normal;font-family:Menlo,'DejaVu Sans Mono',consolas,'Courier New',monospace\">                                   <span style=\"color: #000000; text-decoration-color: #000000; background-color: #ffff00; font-weight: bold\">S</span> <span style=\"color: #000000; text-decoration-color: #000000; background-color: #ffff00; font-weight: bold\">E</span> <span style=\"color: #c0c0c0; text-decoration-color: #c0c0c0; background-color: #000000; font-weight: bold\">U</span> <span style=\"color: #c0c0c0; text-decoration-color: #c0c0c0; background-color: #000000; font-weight: bold\">I</span> <span style=\"color: #c0c0c0; text-decoration-color: #c0c0c0; background-color: #000000; font-weight: bold\">O</span>                                    \n",
              "</pre>\n"
            ]
          },
          "metadata": {}
        },
        {
          "output_type": "display_data",
          "data": {
            "text/plain": [
              "                                   \u001b[1;30;48;2;0;255;0mA\u001b[0m \u001b[1;37;48;2;0;0;0mN\u001b[0m \u001b[1;37;48;2;0;0;0mG\u001b[0m \u001b[1;37;48;2;0;0;0mL\u001b[0m \u001b[1;30;48;2;255;255;0mE\u001b[0m                                    \n"
            ],
            "text/html": [
              "<pre style=\"white-space:pre;overflow-x:auto;line-height:normal;font-family:Menlo,'DejaVu Sans Mono',consolas,'Courier New',monospace\">                                   <span style=\"color: #000000; text-decoration-color: #000000; background-color: #00ff00; font-weight: bold\">A</span> <span style=\"color: #c0c0c0; text-decoration-color: #c0c0c0; background-color: #000000; font-weight: bold\">N</span> <span style=\"color: #c0c0c0; text-decoration-color: #c0c0c0; background-color: #000000; font-weight: bold\">G</span> <span style=\"color: #c0c0c0; text-decoration-color: #c0c0c0; background-color: #000000; font-weight: bold\">L</span> <span style=\"color: #000000; text-decoration-color: #000000; background-color: #ffff00; font-weight: bold\">E</span>                                    \n",
              "</pre>\n"
            ]
          },
          "metadata": {}
        },
        {
          "output_type": "display_data",
          "data": {
            "text/plain": [
              "                                                                                \n",
              "              \u001b[1;30;48;2;0;255;0mA\u001b[0m \u001b[2mB\u001b[0m \u001b[2mC\u001b[0m \u001b[2mD\u001b[0m \u001b[1;30;48;2;255;255;0mE\u001b[0m \u001b[2mF\u001b[0m \u001b[1;37;48;2;0;0;0mG\u001b[0m \u001b[2mH\u001b[0m \u001b[1;37;48;2;0;0;0mI\u001b[0m \u001b[2mJ\u001b[0m \u001b[2mK\u001b[0m \u001b[1;37;48;2;0;0;0mL\u001b[0m \u001b[2mM\u001b[0m \u001b[1;37;48;2;0;0;0mN\u001b[0m \u001b[1;37;48;2;0;0;0mO\u001b[0m \u001b[2mP\u001b[0m \u001b[2mQ\u001b[0m \u001b[2mR\u001b[0m \u001b[1;30;48;2;255;255;0mS\u001b[0m \u001b[2mT\u001b[0m \u001b[1;37;48;2;0;0;0mU\u001b[0m \u001b[2mV\u001b[0m \u001b[2mW\u001b[0m \u001b[2mX\u001b[0m \u001b[2mY\u001b[0m \u001b[2mZ\u001b[0m               \n",
              "                                                                                \n",
              "                                                                                \n"
            ],
            "text/html": [
              "<pre style=\"white-space:pre;overflow-x:auto;line-height:normal;font-family:Menlo,'DejaVu Sans Mono',consolas,'Courier New',monospace\">                                                                                \n",
              "              <span style=\"color: #000000; text-decoration-color: #000000; background-color: #00ff00; font-weight: bold\">A</span> <span style=\"color: #7f7f7f; text-decoration-color: #7f7f7f\">B</span> <span style=\"color: #7f7f7f; text-decoration-color: #7f7f7f\">C</span> <span style=\"color: #7f7f7f; text-decoration-color: #7f7f7f\">D</span> <span style=\"color: #000000; text-decoration-color: #000000; background-color: #ffff00; font-weight: bold\">E</span> <span style=\"color: #7f7f7f; text-decoration-color: #7f7f7f\">F</span> <span style=\"color: #c0c0c0; text-decoration-color: #c0c0c0; background-color: #000000; font-weight: bold\">G</span> <span style=\"color: #7f7f7f; text-decoration-color: #7f7f7f\">H</span> <span style=\"color: #c0c0c0; text-decoration-color: #c0c0c0; background-color: #000000; font-weight: bold\">I</span> <span style=\"color: #7f7f7f; text-decoration-color: #7f7f7f\">J</span> <span style=\"color: #7f7f7f; text-decoration-color: #7f7f7f\">K</span> <span style=\"color: #c0c0c0; text-decoration-color: #c0c0c0; background-color: #000000; font-weight: bold\">L</span> <span style=\"color: #7f7f7f; text-decoration-color: #7f7f7f\">M</span> <span style=\"color: #c0c0c0; text-decoration-color: #c0c0c0; background-color: #000000; font-weight: bold\">N</span> <span style=\"color: #c0c0c0; text-decoration-color: #c0c0c0; background-color: #000000; font-weight: bold\">O</span> <span style=\"color: #7f7f7f; text-decoration-color: #7f7f7f\">P</span> <span style=\"color: #7f7f7f; text-decoration-color: #7f7f7f\">Q</span> <span style=\"color: #7f7f7f; text-decoration-color: #7f7f7f\">R</span> <span style=\"color: #000000; text-decoration-color: #000000; background-color: #ffff00; font-weight: bold\">S</span> <span style=\"color: #7f7f7f; text-decoration-color: #7f7f7f\">T</span> <span style=\"color: #c0c0c0; text-decoration-color: #c0c0c0; background-color: #000000; font-weight: bold\">U</span> <span style=\"color: #7f7f7f; text-decoration-color: #7f7f7f\">V</span> <span style=\"color: #7f7f7f; text-decoration-color: #7f7f7f\">W</span> <span style=\"color: #7f7f7f; text-decoration-color: #7f7f7f\">X</span> <span style=\"color: #7f7f7f; text-decoration-color: #7f7f7f\">Y</span> <span style=\"color: #7f7f7f; text-decoration-color: #7f7f7f\">Z</span>               \n",
              "                                                                                \n",
              "                                                                                \n",
              "</pre>\n"
            ]
          },
          "metadata": {}
        },
        {
          "output_type": "display_data",
          "data": {
            "text/plain": [],
            "text/html": [
              "<pre style=\"white-space:pre;overflow-x:auto;line-height:normal;font-family:Menlo,'DejaVu Sans Mono',consolas,'Courier New',monospace\"></pre>\n"
            ]
          },
          "metadata": {}
        },
        {
          "output_type": "display_data",
          "data": {
            "text/plain": [
              "\u001b[92m──────────────────────────────── \u001b[0m\u001b[38;2;0;204;255m🧙 Guess \u001b[0m\u001b[1;38;2;0;204;255m3\u001b[0m\u001b[38;2;0;204;255m 💡\u001b[0m \u001b[92m ────────────────────────────────\u001b[0m\n"
            ],
            "text/html": [
              "<pre style=\"white-space:pre;overflow-x:auto;line-height:normal;font-family:Menlo,'DejaVu Sans Mono',consolas,'Courier New',monospace\"><span style=\"color: #00ff00; text-decoration-color: #00ff00\">──────────────────────────────── </span><span style=\"color: #00ccff; text-decoration-color: #00ccff\">🧙 Guess </span><span style=\"color: #00ccff; text-decoration-color: #00ccff; font-weight: bold\">3</span><span style=\"color: #00ccff; text-decoration-color: #00ccff\"> 💡</span> <span style=\"color: #00ff00; text-decoration-color: #00ff00\"> ────────────────────────────────</span>\n",
              "</pre>\n"
            ]
          },
          "metadata": {}
        },
        {
          "output_type": "display_data",
          "data": {
            "text/plain": [
              "\n",
              "Guess word: "
            ],
            "text/html": [
              "<pre style=\"white-space:pre;overflow-x:auto;line-height:normal;font-family:Menlo,'DejaVu Sans Mono',consolas,'Courier New',monospace\">\n",
              "Guess word: </pre>\n"
            ]
          },
          "metadata": {}
        },
        {
          "name": "stdout",
          "output_type": "stream",
          "text": [
            "askew\n"
          ]
        },
        {
          "output_type": "display_data",
          "data": {
            "text/plain": [
              "                                   \u001b[1;30;48;2;255;255;0mS\u001b[0m \u001b[1;30;48;2;255;255;0mE\u001b[0m \u001b[1;37;48;2;0;0;0mU\u001b[0m \u001b[1;37;48;2;0;0;0mI\u001b[0m \u001b[1;37;48;2;0;0;0mO\u001b[0m                                    \n"
            ],
            "text/html": [
              "<pre style=\"white-space:pre;overflow-x:auto;line-height:normal;font-family:Menlo,'DejaVu Sans Mono',consolas,'Courier New',monospace\">                                   <span style=\"color: #000000; text-decoration-color: #000000; background-color: #ffff00; font-weight: bold\">S</span> <span style=\"color: #000000; text-decoration-color: #000000; background-color: #ffff00; font-weight: bold\">E</span> <span style=\"color: #c0c0c0; text-decoration-color: #c0c0c0; background-color: #000000; font-weight: bold\">U</span> <span style=\"color: #c0c0c0; text-decoration-color: #c0c0c0; background-color: #000000; font-weight: bold\">I</span> <span style=\"color: #c0c0c0; text-decoration-color: #c0c0c0; background-color: #000000; font-weight: bold\">O</span>                                    \n",
              "</pre>\n"
            ]
          },
          "metadata": {}
        },
        {
          "output_type": "display_data",
          "data": {
            "text/plain": [
              "                                   \u001b[1;30;48;2;0;255;0mA\u001b[0m \u001b[1;37;48;2;0;0;0mN\u001b[0m \u001b[1;37;48;2;0;0;0mG\u001b[0m \u001b[1;37;48;2;0;0;0mL\u001b[0m \u001b[1;30;48;2;255;255;0mE\u001b[0m                                    \n"
            ],
            "text/html": [
              "<pre style=\"white-space:pre;overflow-x:auto;line-height:normal;font-family:Menlo,'DejaVu Sans Mono',consolas,'Courier New',monospace\">                                   <span style=\"color: #000000; text-decoration-color: #000000; background-color: #00ff00; font-weight: bold\">A</span> <span style=\"color: #c0c0c0; text-decoration-color: #c0c0c0; background-color: #000000; font-weight: bold\">N</span> <span style=\"color: #c0c0c0; text-decoration-color: #c0c0c0; background-color: #000000; font-weight: bold\">G</span> <span style=\"color: #c0c0c0; text-decoration-color: #c0c0c0; background-color: #000000; font-weight: bold\">L</span> <span style=\"color: #000000; text-decoration-color: #000000; background-color: #ffff00; font-weight: bold\">E</span>                                    \n",
              "</pre>\n"
            ]
          },
          "metadata": {}
        },
        {
          "output_type": "display_data",
          "data": {
            "text/plain": [
              "                                   \u001b[1;30;48;2;0;255;0mA\u001b[0m \u001b[1;30;48;2;0;255;0mS\u001b[0m \u001b[1;30;48;2;0;255;0mK\u001b[0m \u001b[1;30;48;2;0;255;0mE\u001b[0m \u001b[1;30;48;2;0;255;0mW\u001b[0m                                    \n"
            ],
            "text/html": [
              "<pre style=\"white-space:pre;overflow-x:auto;line-height:normal;font-family:Menlo,'DejaVu Sans Mono',consolas,'Courier New',monospace\">                                   <span style=\"color: #000000; text-decoration-color: #000000; background-color: #00ff00; font-weight: bold\">A</span> <span style=\"color: #000000; text-decoration-color: #000000; background-color: #00ff00; font-weight: bold\">S</span> <span style=\"color: #000000; text-decoration-color: #000000; background-color: #00ff00; font-weight: bold\">K</span> <span style=\"color: #000000; text-decoration-color: #000000; background-color: #00ff00; font-weight: bold\">E</span> <span style=\"color: #000000; text-decoration-color: #000000; background-color: #00ff00; font-weight: bold\">W</span>                                    \n",
              "</pre>\n"
            ]
          },
          "metadata": {}
        },
        {
          "output_type": "display_data",
          "data": {
            "text/plain": [
              "                                                                                \n",
              "              \u001b[1;30;48;2;0;255;0mA\u001b[0m \u001b[2mB\u001b[0m \u001b[2mC\u001b[0m \u001b[2mD\u001b[0m \u001b[1;30;48;2;0;255;0mE\u001b[0m \u001b[2mF\u001b[0m \u001b[1;37;48;2;0;0;0mG\u001b[0m \u001b[2mH\u001b[0m \u001b[1;37;48;2;0;0;0mI\u001b[0m \u001b[2mJ\u001b[0m \u001b[1;30;48;2;0;255;0mK\u001b[0m \u001b[1;37;48;2;0;0;0mL\u001b[0m \u001b[2mM\u001b[0m \u001b[1;37;48;2;0;0;0mN\u001b[0m \u001b[1;37;48;2;0;0;0mO\u001b[0m \u001b[2mP\u001b[0m \u001b[2mQ\u001b[0m \u001b[2mR\u001b[0m \u001b[1;30;48;2;0;255;0mS\u001b[0m \u001b[2mT\u001b[0m \u001b[1;37;48;2;0;0;0mU\u001b[0m \u001b[2mV\u001b[0m \u001b[1;30;48;2;0;255;0mW\u001b[0m \u001b[2mX\u001b[0m \u001b[2mY\u001b[0m \u001b[2mZ\u001b[0m               \n",
              "                                                                                \n",
              "                                                                                \n"
            ],
            "text/html": [
              "<pre style=\"white-space:pre;overflow-x:auto;line-height:normal;font-family:Menlo,'DejaVu Sans Mono',consolas,'Courier New',monospace\">                                                                                \n",
              "              <span style=\"color: #000000; text-decoration-color: #000000; background-color: #00ff00; font-weight: bold\">A</span> <span style=\"color: #7f7f7f; text-decoration-color: #7f7f7f\">B</span> <span style=\"color: #7f7f7f; text-decoration-color: #7f7f7f\">C</span> <span style=\"color: #7f7f7f; text-decoration-color: #7f7f7f\">D</span> <span style=\"color: #000000; text-decoration-color: #000000; background-color: #00ff00; font-weight: bold\">E</span> <span style=\"color: #7f7f7f; text-decoration-color: #7f7f7f\">F</span> <span style=\"color: #c0c0c0; text-decoration-color: #c0c0c0; background-color: #000000; font-weight: bold\">G</span> <span style=\"color: #7f7f7f; text-decoration-color: #7f7f7f\">H</span> <span style=\"color: #c0c0c0; text-decoration-color: #c0c0c0; background-color: #000000; font-weight: bold\">I</span> <span style=\"color: #7f7f7f; text-decoration-color: #7f7f7f\">J</span> <span style=\"color: #000000; text-decoration-color: #000000; background-color: #00ff00; font-weight: bold\">K</span> <span style=\"color: #c0c0c0; text-decoration-color: #c0c0c0; background-color: #000000; font-weight: bold\">L</span> <span style=\"color: #7f7f7f; text-decoration-color: #7f7f7f\">M</span> <span style=\"color: #c0c0c0; text-decoration-color: #c0c0c0; background-color: #000000; font-weight: bold\">N</span> <span style=\"color: #c0c0c0; text-decoration-color: #c0c0c0; background-color: #000000; font-weight: bold\">O</span> <span style=\"color: #7f7f7f; text-decoration-color: #7f7f7f\">P</span> <span style=\"color: #7f7f7f; text-decoration-color: #7f7f7f\">Q</span> <span style=\"color: #7f7f7f; text-decoration-color: #7f7f7f\">R</span> <span style=\"color: #000000; text-decoration-color: #000000; background-color: #00ff00; font-weight: bold\">S</span> <span style=\"color: #7f7f7f; text-decoration-color: #7f7f7f\">T</span> <span style=\"color: #c0c0c0; text-decoration-color: #c0c0c0; background-color: #000000; font-weight: bold\">U</span> <span style=\"color: #7f7f7f; text-decoration-color: #7f7f7f\">V</span> <span style=\"color: #000000; text-decoration-color: #000000; background-color: #00ff00; font-weight: bold\">W</span> <span style=\"color: #7f7f7f; text-decoration-color: #7f7f7f\">X</span> <span style=\"color: #7f7f7f; text-decoration-color: #7f7f7f\">Y</span> <span style=\"color: #7f7f7f; text-decoration-color: #7f7f7f\">Z</span>               \n",
              "                                                                                \n",
              "                                                                                \n",
              "</pre>\n"
            ]
          },
          "metadata": {}
        },
        {
          "output_type": "display_data",
          "data": {
            "text/plain": [
              "\n",
              "\u001b[1;30;48;2;221;255;221mCorrect, the secret word is ASKEW\u001b[0m\n"
            ],
            "text/html": [
              "<pre style=\"white-space:pre;overflow-x:auto;line-height:normal;font-family:Menlo,'DejaVu Sans Mono',consolas,'Courier New',monospace\">\n",
              "<span style=\"color: #000000; text-decoration-color: #000000; background-color: #ddffdd; font-weight: bold\">Correct, the secret word is ASKEW</span>\n",
              "</pre>\n"
            ]
          },
          "metadata": {}
        }
      ],
      "source": [
        "# This is the start of a longer word list.\n",
        "\n",
        "wordle_word_list = [\n",
        "    'aback', 'abase', 'abate', 'abbey', 'abbot', 'abhor', 'abide', 'abled', 'abode', 'abort',\n",
        "    'about', 'above', 'abuse', 'abyss', 'acorn', 'acrid', 'actor', 'acute', 'adage', 'adapt',\n",
        "    'adept', 'adieu', 'admin', 'admit', 'adobe', 'adopt', 'adore', 'adorn', 'adult', 'affix',\n",
        "    'afire', 'afoot', 'afoul', 'after', 'again', 'agape', 'agate', 'agent', 'agile', 'aging',\n",
        "    'aglow', 'agony', 'agora', 'agree', 'ahead', 'aider', 'aisle', 'alarm', 'album', 'alert',\n",
        "    'algae', 'alibi', 'alien', 'align', 'alike', 'alive', 'allay', 'alley', 'allot', 'allow',\n",
        "    'alloy', 'aloft', 'alone', 'along', 'aloof', 'aloud', 'alpha', 'altar', 'alter', 'amass',\n",
        "    'amaze', 'amber', 'amble', 'amend', 'amiss', 'amity', 'among', 'ample', 'amply', 'amuse',\n",
        "    'angel', 'anger', 'angle', 'angry', 'angst', 'anime', 'ankle', 'annex', 'annoy', 'annul',\n",
        "    'anode', 'antic', 'anvil', 'aorta', 'apart', 'aphid', 'aping', 'apnea', 'apple', 'apply',\n",
        "    'apron', 'aptly', 'arbor', 'ardor', 'arena', 'argue', 'arise', 'armor', 'aroma', 'arose',\n",
        "    'array', 'arrow', 'arson', 'artsy', 'ascot', 'ashen', 'aside', 'askew', 'assay', 'asset',\n",
        "    'atoll', 'atone', 'attic', 'audio', 'audit', 'augur', 'aunty', 'avail', 'avert', 'avian',\n",
        "    'avoid', 'await', 'awake', 'award', 'aware', 'awash', 'awful', 'awoke', 'axial', 'axiom',\n",
        "    'axion', 'azure']\n",
        "\n",
        "\n",
        "# ------------------- wyrdl.py -------------------\n",
        "\n",
        "import contextlib\n",
        "import pathlib\n",
        "import random\n",
        "from rich.console import Console\n",
        "from rich.theme import Theme\n",
        "from string import ascii_letters, ascii_uppercase\n",
        "from typing import List, Tuple, Dict\n",
        "\n",
        "\n",
        "WYRDLE_THEME = Theme({'correct': 'bold black on #ddffdd',\n",
        "                      'incorrect': 'bold black on #ffdddd',\n",
        "                      \"warning\": \"red on #eeffee\",\n",
        "                      })\n",
        "\n",
        "console = Console(width=80, theme=WYRDLE_THEME)\n",
        "\n",
        "NUM_LETTERS = 5\n",
        "NUM_GUESSES = 6\n",
        "# WORDS_PATH = pathlib.Path(__file__).parent / \"wordlist.txt\"\n",
        "WORDS_LIST = wordle_word_list\n",
        "\n",
        "# STYLES maps scores to styles. E.g., the score 'g' (for 'green') is mapped to the style \"bold black on #00FF00\".\n",
        "# The score '_', which means no information (yet) about this letter, is mapped to 'dim'.\n",
        "# Wouldn't help to add these to the Theme since a Theme style can only be applied to a complete print statement,\n",
        "# not to a segment.\n",
        "STYLES = {'g': \"bold black on #00ff00\",\n",
        "          'y': \"bold black on #ffff00\",\n",
        "          '#': \"bold white on #000000\",\n",
        "          '_': \"dim\",\n",
        "          }\n",
        "\n",
        "# SCORE_RANKING assigns an integer to each score so that they can be compared with '>'.\n",
        "# The ordering is '_#yg'.\n",
        "SCORE_RANKING: Dict[str, int] = {score: rank for rank, score in enumerate('_#yg')}\n",
        "\n",
        "verbose: bool\n",
        "\n",
        "def main(verbo=False):\n",
        "    global verbose\n",
        "    verbose = verbo\n",
        "\n",
        "    # Pre-process: get the secret word and set up lists and a dictionary.\n",
        "    # secret_word = get_random_word(WORDS_PATH.read_text(encoding=\"utf-8\").split(\"\\n\"))\n",
        "    secret_word = get_random_word(WORDS_LIST)\n",
        "    if verbose:\n",
        "        print(secret_word)\n",
        "\n",
        "    # letter_to_score_map is a dictionary of letters mapped to scores.\n",
        "    # The scores are updated as new information is found. Initially, we\n",
        "    # have no information about any letter.\n",
        "    letter_to_score_map: Dict[str, str] = {letter: '_' for letter in ascii_uppercase}\n",
        "\n",
        "    # guesses is a list of the guesses\n",
        "    guesses = []\n",
        "    # scores is a list of the scores. Must keep track of the scores so that when we display\n",
        "    # the sequences of guesses, earlier guesses will have the score valid at the time.\n",
        "    scores = []\n",
        "\n",
        "    # Main loop: make the guesses\n",
        "    found_it = False\n",
        "    with contextlib.suppress(KeyboardInterrupt):\n",
        "        for idx in range(NUM_GUESSES):\n",
        "            refresh_page(headline=f\"Guess {idx + 1}\")\n",
        "\n",
        "            # Make and score a guess and update guesses, scores, and letter_to_score_map\n",
        "            guesses, scores, letter_to_score_map = take_a_guess(secret_word, guesses, scores, letter_to_score_map)\n",
        "            show_guesses_and_letters(guesses, scores, letter_to_score_map)\n",
        "            if found_it := guesses[-1] == secret_word:\n",
        "                break\n",
        "\n",
        "    # Post-process: report the result\n",
        "    game_over(secret_word, found_it)\n",
        "\n",
        "def game_over(secret_word, found_it):\n",
        "    (correct_sorry, is_was, style) = ('Correct', 'is',  'correct') if found_it else \\\n",
        "                                     ('Sorry',   'was', 'incorrect')\n",
        "    console.print(f\"\\n{correct_sorry}, the secret word {is_was} {secret_word}\", style=style)\n",
        "\n",
        "def get_random_word(word_list):\n",
        "    if words := [word.upper() for word in word_list\n",
        "                    if len(word) == NUM_LETTERS and\n",
        "                       all(letter in ascii_letters for letter in word)]:\n",
        "        return random.choice(words)\n",
        "    else:\n",
        "        console.print(\n",
        "            f\"No words of length {NUM_LETTERS} in the word list\",\n",
        "            style=\"warning\",\n",
        "        )\n",
        "        raise SystemExit()\n",
        "\n",
        "def guess_a_word(previous_guesses) -> str:\n",
        "    guess = console.input(\"\\nGuess word: \").upper()\n",
        "\n",
        "    if guess in previous_guesses:\n",
        "        console.print(f\"You've already guessed {guess}.\", style=\"warning\")\n",
        "        return guess_a_word(previous_guesses)\n",
        "\n",
        "    if len(guess) != NUM_LETTERS:\n",
        "        console.print(\n",
        "            f\"Your guess must be {NUM_LETTERS} letters.\", style=\"warning\"\n",
        "        )\n",
        "        return guess_a_word(previous_guesses)\n",
        "\n",
        "    if any((invalid := letter) not in ascii_letters for letter in guess):\n",
        "        console.print(\n",
        "            f\"Invalid letter: '{invalid}'. Please use English letters.\", style=\"warning\",\n",
        "        )\n",
        "        return guess_a_word(previous_guesses)\n",
        "\n",
        "    return guess\n",
        "\n",
        "def refresh_page(headline):\n",
        "    console.clear()\n",
        "    console.rule(f\"[#00CCFF]:mage: {headline} :bulb:[/]\\n\")\n",
        "\n",
        "def score_a_guess(secret_word, guess) -> str:\n",
        "    '''\n",
        "    Build a list with one char for each guess element.\n",
        "    g = Letter in Correct position (green);\n",
        "    y = Letter in Incorrect position (yellow);\n",
        "    # = Letter not in secret_word. (These are the gray results. Can't use 'g' since we use it for green)\n",
        "\n",
        "    In the following example: secret_word = 'hpaay'\n",
        "                              guess       = 'aaapz'\n",
        "                              -> score    = 'y#gy#'\n",
        "\n",
        "    The third letter in both the secret_word and the guess is \"a\".\n",
        "        So the third letter in the score must be \"g\".\n",
        "        (The matching letters must be determined first.)\n",
        "    The first letter in the guess, 'a', is associated with the fourth letter in the secret_word, 'a'.\n",
        "        So the first letter in the score is \"y\".\n",
        "    The second letter in the guess, 'a', has nothing in secret_word to be associated with.\n",
        "        So the second letter in the score is \"#\".\n",
        "    The other two letter in the score should be self explanatory.\n",
        "    '''\n",
        "\n",
        "    # Generate the score list with the letters in the correct position marked 'g'.\n",
        "    # All non-green elements are marked '#'. These will be changed to 'y' later if appropriate.\n",
        "    score = [('g' if sec_ltr == guess_ltr else '#') for sec_ltr, guess_ltr in zip(secret_word, guess)]\n",
        "\n",
        "    # Generate a list of the \"holes,\" i.e., secret_word letters that do not have correct corresponding guess letters.\n",
        "    secret_word_holes = [sec_ltr for sec_ltr, score_ltr in zip(secret_word, score) if score_ltr != 'g']\n",
        "\n",
        "    if verbose: print(f'{secret_word_holes = }')\n",
        "\n",
        "    # For each available secret_word hole find matching guess letters. Ignore guess letters that are\n",
        "    # paired with their secret_word letters. Score the first match as 'y' and don't look further.\n",
        "    for ltr in secret_word_holes:\n",
        "        for i in range(len(score)):\n",
        "            # Have we found a hole-filling letter in guess that is not otherwise committed?\n",
        "            # If so, mark it 'y'. Since we have now filled this hole, go on to the next hole.\n",
        "            if guess[i] == ltr and score[i] == '#':\n",
        "                score[i] = 'y'\n",
        "                break\n",
        "\n",
        "    # Return score as a string\n",
        "    score_string = ''.join(score)\n",
        "    if verbose:\n",
        "        print(f'\\n\\t{score_string = }\\n\\n')\n",
        "    return score_string\n",
        "\n",
        "def show_guesses_and_letters(guesses, guess_scores, letter_to_score_map):\n",
        "\n",
        "    # A letter may appear multiple times in a guess and have different scores.\n",
        "    def letters_and_scores_to_styled_letters(zipped_letters_scores) -> List[str]:\n",
        "        return [f\"[{STYLES[letter_score]}]{letter}[/]\" for letter, letter_score in zipped_letters_scores]\n",
        "\n",
        "    def spaced_and_styled_seq(zipped_letters_scores) -> str:\n",
        "        return \" \".join(letters_and_scores_to_styled_letters(zipped_letters_scores))\n",
        "\n",
        "    # Print the sequences of guesses, one styled guess per line.\n",
        "    for guess, guess_score in zip(guesses, guess_scores):\n",
        "        console.print(spaced_and_styled_seq(zip(guess, guess_score)), justify=\"center\")\n",
        "\n",
        "    console.print(\"\\n\" + spaced_and_styled_seq(letter_to_score_map.items()) + \"\\n\\n\", justify=\"center\")\n",
        "\n",
        "def take_a_guess(secret_word, guesses, guess_scores, letter_to_score_map) -> Tuple[List[str], List[str], Dict[str, str]]:\n",
        "    \"\"\"\n",
        "    Make and score a new guess. Update and return guesses, guess_scores, and letter_to_score_map.\n",
        "    \"\"\"\n",
        "\n",
        "    guess = guess_a_word(previous_guesses=guesses)\n",
        "    guess_score = score_a_guess(secret_word, guess)\n",
        "\n",
        "    # Update letter_to_score_map\n",
        "    for letter, letter_score in zip(guess, guess_score):\n",
        "        if SCORE_RANKING[letter_score] > SCORE_RANKING[letter_to_score_map[letter]]:\n",
        "            letter_to_score_map[letter] = letter_score\n",
        "\n",
        "    # Use + instead of append() to be more functional.\n",
        "    # When using +, must put guess into a list since + concatenates its arguments.\n",
        "    return guesses + [guess], guess_scores + [guess_score], letter_to_score_map\n",
        "\n",
        "main()"
      ]
    }
  ]
}