
wordle_word_list = [
    'aback', 'abase', 'abate', 'abbey', 'abbot', 'abhor', 'abide', 'abled', 'abode', 'abort', 
    'about', 'above', 'abuse', 'abyss', 'acorn', 'acrid', 'actor', 'acute', 'adage', 'adapt', 
    'adept', 'admin', 'admit', 'adobe', 'adopt', 'adore', 'adorn', 'adult', 'affix', 'afire', 
    'afoot', 'afoul', 'after', 'again', 'agape', 'agate', 'agent', 'agile', 'aging', 'aglow', 
    'agony', 'agora', 'agree', 'ahead', 'aider', 'aisle', 'alarm', 'album', 'alert', 'algae', 
    'alibi', 'alien', 'align', 'alike', 'alive', 'allay', 'alley', 'allot', 'allow', 'alloy', 
    'aloft', 'alone', 'along', 'aloof', 'aloud', 'alpha', 'altar', 'alter', 'amass', 'amaze', 
    'amber', 'amble', 'amend', 'amiss', 'amity', 'among', 'ample', 'amply', 'amuse', 'angel', 
    'anger', 'angle', 'angry', 'angst', 'anime', 'ankle', 'annex', 'annoy', 'annul', 'anode', 
    'antic', 'anvil', 'aorta', 'apart', 'aphid', 'aping', 'apnea', 'apple', 'apply', 'apron', 
    'aptly', 'arbor', 'ardor', 'arena', 'argue', 'arise', 'armor', 'aroma', 'arose', 'array', 
    'arrow', 'arson', 'artsy', 'ascot', 'ashen', 'aside', 'askew', 'assay', 'asset', 'atoll', 
    'atone', 'attic', 'audio', 'audit', 'augur', 'aunty', 'avail', 'avert', 'avian', 'avoid', 
    'await', 'awake', 'award', 'aware', 'awash', 'awful', 'awoke', 'axial', 'axiom', 'axion', 
    'azure']



# wyrdl.py

import contextlib
import pathlib
import random
from string import ascii_letters, ascii_uppercase

from rich.console import Console
from rich.theme import Theme

console = Console(width=40, theme=Theme({"warning": "red on yellow"}))

NUM_LETTERS = 5
NUM_GUESSES = 6
# WORDS_PATH = pathlib.Path(__file__).parent / "wordlist.txt"
WORDS_LIST = wordle_word_list

def main():
    # Pre-process
    # secret = get_random_word(WORDS_PATH.read_text(encoding="utf-8").split("\n"))
    secret = get_random_word(WORDS_LIST)
    # print(word)
    guesses = ["_" * NUM_LETTERS] * NUM_GUESSES

    # Process (main loop)
    idx: int = -1
    with contextlib.suppress(KeyboardInterrupt):
        for idx in range(NUM_GUESSES):
            refresh_page(headline=f"Guess {idx + 1}")
            show_guesses(guesses, secret)

            guesses[idx] = guess_word(previous_guesses=guesses[:idx])
            # guess = guess_word(previous_guesses=guesses[:idx])
            if guesses[idx] == secret:
                break

    # Post-process
    game_over(guesses, secret, guessed_correctly=guesses[idx] == secret)

def refresh_page(headline):
    console.clear()
    # console.rule(f"[#00aaFF]:leafy_green: {headline} :leafy_green:[/]\n")
    console.rule(f"[#00aaFF]: {headline} :[/]\n")

def get_random_word(word_list):
    if words := [word.upper() for word in word_list
                    if len(word) == NUM_LETTERS and
                       all(letter in ascii_letters for letter in word)]:
        return random.choice(words)
    else:
        console.print(
            f"No words of length {NUM_LETTERS} in the word list",
            style="warning",
        )
        raise SystemExit()

def show_guesses(guesses, secret):
    letter_status = {letter: '_' for letter in ascii_uppercase}
    for guess in guesses:
        score = score_a_guess(secret, guess, verbose=False)
        styled_guess = []
        for letter, score in zip(guess, score):
            if score == 'g':
                style = "bold black on #00FF00"
            elif score == 'y':
                style = "bold black on #CCCC00"
            elif letter in ascii_letters:
                style = "bold white on #000000"
            else:
                style = "dim"
            styled_guess.append(f"[{style}]{letter}[/]")
            if letter != "_":
                letter_status[letter] = f"[{style}]{letter}[/]"
        console.print("".join(styled_guess), justify="center")
    console.print("\n" + "".join(letter_status.values()), justify="center")

def guess_word(previous_guesses):
    guess = console.input("\nGuess word: ").upper()

    if guess in previous_guesses:
        console.print(f"You've already guessed {guess}.", style="warning")
        return guess_word(previous_guesses)

    if len(guess) != NUM_LETTERS:
        console.print(
            f"Your guess must be {NUM_LETTERS} letters.", style="warning"
        )
        return guess_word(previous_guesses)

    if any((invalid := letter) not in ascii_letters for letter in guess):
        console.print(
            f"Invalid letter: '{invalid}'. Please use English letters.",
            style="warning",
        )
        return guess_word(previous_guesses)

    return guess

def score_a_guess(secret, guess, verbose=False) -> str:
    '''
    Build a list with one char for each guess element.
    g = Letter in Correct position (green);
    y = Letter in Incorrect position (yellow);
    # = Letter not in secret word. (These are the gray results. Can't use 'g' since we use it for green)

    In the following example: secret    = 'hpaay'
                                guess     = 'aaapz'
                                -> score  = 'y#gy#'

    The third letter in both the secret and the guess is "a".
        So the third letter in the score must be "g".
        (The matching letters must be determined first.)
    The first letter in the guess, 'a', is associated with the fourth letter in the secret, 'a'.
        So the first letter in the score is "y".
    The second letter in the guess, 'a', has nothing in secret to be associated with.
        So the second letter in the score is "#".
    The other two letter in the score should be self explanatory.
    '''

    # Generate the score list with the letters in the correct position marked 'g'.
    # All non-green elements are marked '#'. These will be changed to 'y' later if appropriate.
    # score = [('g' if guess[i] == secret[i] else '#') for i in range(word_length)]
    score = [('g' if sec_ltr == guess_ltr else '#') for sec_ltr, guess_ltr in zip(secret, guess)]

    # Generate a list of the "holes," i.e., secret letters that do not have correct corresponding guess letters.
    # secret_holes = [secret[i] for i in range(word_length) if score[i] != 'g']
    secret_holes = [sec_ltr for sec_ltr, score_ltr in zip(secret, score) if score_ltr != 'g']

    if verbose: print(f'{secret_holes = }')

    # For each available secret hole find a matching guess letters. Ignore guess letters that are paired with
    # their secret letters. Score the first match as 'y' and don't look further.
    for ltr in secret_holes:
        for i in range(len(score)):
            # Have we found a hole-filling letter in guess that is not otherwise committed?
            # If so, mark it 'y'. Since we have now filled this hole, go on to the next hole.
            if guess[i] == ltr and score[i] == '#':
                score[i] = 'y'
                break

    # Return score as a string
    score_string = ''.join(score)
    if verbose:
        print(f'\n\t{score_string = }\n\n')
    return score_string

def game_over(guesses, word, guessed_correctly):
    refresh_page(headline="Game Over")
    show_guesses(guesses, word)

    if guessed_correctly:
        console.print(f"\n[bold white on green]Correct, the word is {word}[/]")
    else:
        console.print(f"\n[bold white on red]Sorry, the word was {word}[/]")


main()
