{
  "nbformat": 4,
  "nbformat_minor": 0,
  "metadata": {
    "colab": {
      "provenance": [],
      "authorship_tag": "ABX9TyNW3vmP2yw/Bs77GTna5Vw1",
      "include_colab_link": true
    },
    "kernelspec": {
      "name": "python3",
      "display_name": "Python 3"
    },
    "language_info": {
      "name": "python"
    }
  },
  "cells": [
    {
      "cell_type": "markdown",
      "metadata": {
        "id": "view-in-github",
        "colab_type": "text"
      },
      "source": [
        "<a href=\"https://colab.research.google.com/github/RussAbbott/Wyrdl/blob/main/Wyrdl.ipynb\" target=\"_parent\"><img src=\"https://colab.research.google.com/assets/colab-badge.svg\" alt=\"Open In Colab\"/></a>"
      ]
    },
    {
      "cell_type": "code",
      "source": [
        "# !pip install \"rich[jupyter]\"\n",
        "\n",
        "\n",
        "# -------------------------------------- wyrdl.py --------------------------------------\n",
        "#            Adapted from: https://realpython.com/python-wordle-clone/\n",
        "# --------------------------------------------------------------------------------------\n",
        "\n",
        "\n",
        "import contextlib\n",
        "import pathlib\n",
        "import random\n",
        "from string import ascii_letters, ascii_uppercase\n",
        "from typing import Dict, Iterable, List, Literal, Sequence, Tuple\n",
        "\n",
        "\n",
        "class Rich_IO():\n",
        "\n",
        "    from rich.console import Console\n",
        "    from rich.theme import Theme\n",
        "\n",
        "    WYRDL_THEME = Theme({'correct':   'bold black on #ddffdd',\n",
        "                         'incorrect': 'bold black on #ffdddd',\n",
        "                         'warning':   'bold red on #eeffee',\n",
        "                         })\n",
        "\n",
        "    console = Console(width=80, theme=WYRDL_THEME, highlight=False)\n",
        "\n",
        "    @staticmethod\n",
        "    def guess_a_word(previous_guesses) -> str:\n",
        "        guess = Rich_IO.console.input(\"\\nGuess word: \").upper()\n",
        "\n",
        "        if guess in previous_guesses:\n",
        "            Rich_IO.rich_print(f\"You've already guessed {guess}.\", style=\"warning\")\n",
        "            return Rich_IO.guess_a_word(previous_guesses)\n",
        "\n",
        "        if len(guess) != NUM_LETTERS:\n",
        "            Rich_IO.rich_print(\n",
        "                f\"Your guess must be {NUM_LETTERS} letters.\", style=\"warning\"\n",
        "            )\n",
        "            return Rich_IO.guess_a_word(previous_guesses)\n",
        "\n",
        "        if any((invalid := letter) not in ascii_letters for letter in guess):\n",
        "            Rich_IO.rich_print(\n",
        "                f\"Invalid letter: '{invalid}'. Please use English letters.\", style=\"warning\",\n",
        "            )\n",
        "            return Rich_IO.guess_a_word(previous_guesses)\n",
        "\n",
        "        return guess\n",
        "\n",
        "    @staticmethod\n",
        "    def rich_print(x, style=None, justify=None, end='\\n', sep=' '):\n",
        "        Rich_IO.console.print(x, style=style, justify=justify)\n",
        "\n",
        "    @staticmethod\n",
        "    def show_guesses_and_letters(guesses: List[str], guess_scores: List[str], letter_to_score_map: Dict[str, str]):\n",
        "\n",
        "        # Print the sequences of guesses, one styled guess per line.\n",
        "        for guess, guess_score in zip(guesses, guess_scores):\n",
        "            # guess_score is a string of letter scores.\n",
        "            Rich_IO.rich_print(Rich_Styles.join_with_scores(guess, guess_score, ' '), justify=\"center\")\n",
        "\n",
        "        # Clever unzip()\n",
        "        letters, scores = zip(*letter_to_score_map.items())\n",
        "\n",
        "        # scores is of type Tuple[str, str, ..., str] with an unknown number of elements. (Each element is a\n",
        "        # single character.) We can pass it to scores_to_styles() by declaring the scores_to_styles() parameter\n",
        "        # as an Iterable or a Sequence--or by not declaring the scores_to_styles() parameter at all!\n",
        "        Rich_IO.rich_print(f\"\\n{Rich_Styles.join_with_scores(letters, scores, ' ')} \\n\\n\", justify=\"center\")\n",
        "\n",
        "    @staticmethod\n",
        "    def refresh_page(headline):\n",
        "        Rich_IO.console.clear()\n",
        "        Rich_IO.console.rule(f\"[#00CCFF]:mage: {headline} :bulb:[/]\\n\")\n",
        "\n",
        "\n",
        "class Rich_Styles():\n",
        "\n",
        "    @staticmethod\n",
        "    def add_style(elt, style):\n",
        "        return f\"[{style}]{elt}[/]\"\n",
        "\n",
        "    # STYLES maps scores to styles. E.g., the score 'g' (for 'green') is mapped to the style\n",
        "    # \"bold black on #00FF00\". The score '_', which means no information (yet) about this letter,\n",
        "    # is mapped to 'dim'. Wouldn't help to add these to the Theme since a Theme style can only be\n",
        "    # applied to a complete print statement, not to a segment.\n",
        "    STYLES = {'g': \"bold black on #00ff00\",\n",
        "              'y': \"bold black on #ffff00\",\n",
        "              '~': \"bold white on #000000\",\n",
        "              '_': \"dim\",\n",
        "              }\n",
        "\n",
        "    @staticmethod\n",
        "    def join_with_scores(letters, scores, join_elt) -> str:\n",
        "        styles = Rich_Styles.scores_to_styles(scores)\n",
        "        return Rich_Styles.join_with_styles(letters, styles, join_elt)\n",
        "\n",
        "    @staticmethod\n",
        "    def join_with_styles(letters, styles, join_elt) -> str:\n",
        "        styled_letters = [Rich_Styles.add_style(letter, letter_style) for letter, letter_style in zip(letters, styles)]\n",
        "        return join_elt.join(styled_letters)\n",
        "\n",
        "    @staticmethod\n",
        "    def scores_to_styles(scores: Iterable[Literal['g', 'y', '~', '_']]) -> List[str]:\n",
        "        # The declaration of scores is not necessary. But if we want to declare it, we must declare\n",
        "        # it as an Iterable or Sequence. (Sequence is a subtype of Iterable that allows access by\n",
        "        # index.) This allows us to pass to scores_to_styles() arguments of both type str and type\n",
        "        # Tuple[str, str, ..., str], i.e., a tuple of an unknown number of strings. We pass both\n",
        "        # from show_guesses_and_letters(). See above in Rich_IO.\n",
        "        return [Rich_Styles.STYLES[score] for score in scores]\n",
        "\n",
        "\n"
      ],
      "metadata": {
        "id": "V6fNQt8AIIA1"
      },
      "execution_count": 1,
      "outputs": []
    },
    {
      "cell_type": "code",
      "execution_count": 2,
      "metadata": {
        "id": "6nSwKg5OLqJp"
      },
      "outputs": [],
      "source": [
        "\n",
        "NUM_LETTERS = 5\n",
        "NUM_GUESSES = 6\n",
        "\n",
        "# SCORE_RANKING assigns an integer to each score so that they can be compared with '>'.\n",
        "# The ordering is '_~yg'.\n",
        "SCORE_RANKING: Dict[str, int] = {score: rank for rank, score in enumerate('_~yg')}\n",
        "\n",
        "verbose: bool\n",
        "\n",
        "def main(verbo=False):\n",
        "    global verbose\n",
        "    verbose = verbo\n",
        "\n",
        "    # ------- Pre-process: get the secret word and set up lists and a dictionary -------\n",
        "\n",
        "    # secret_word = get_random_word(WORDS_PATH.read_text(encoding=\"utf-8\").split(\"\\n\"))\n",
        "    secret_word = random.choice(WYRLD_WORDS)\n",
        "    if verbose:\n",
        "        print(secret_word)\n",
        "\n",
        "    # letter_to_score_map is a dictionary of letters mapped to scores.\n",
        "    # The scores are updated as new information is found. Initially, we\n",
        "    # have no information about any letter.\n",
        "    letter_to_score_map: Dict[str, str] = {letter: '_' for letter in ascii_uppercase}\n",
        "\n",
        "    # guesses is a list of the guesses\n",
        "    guesses: List[str] = []\n",
        "\n",
        "    # scores is a list of the guess scores. Each guess score is a string of letter scores.\n",
        "    # Must keep track of the scores so that when we display the sequences of guesses,\n",
        "    # earlier guesses will have the score valid at the time.\n",
        "    guess_scores: List[str] = []\n",
        "\n",
        "    # ------------------------Main loop: make the guesses------------------------------\n",
        "\n",
        "    found_it = False\n",
        "    with contextlib.suppress(KeyboardInterrupt):\n",
        "        for idx in range(NUM_GUESSES):\n",
        "            Rich_IO.refresh_page(headline=f\"Guess {idx + 1}\")\n",
        "\n",
        "            # Make and score a guess and update guesses, scores, and letter_to_score_map\n",
        "            guesses, guess_scores, letter_to_score_map = make_a_guess(secret_word, guesses, guess_scores, letter_to_score_map)\n",
        "            Rich_IO.show_guesses_and_letters(guesses, guess_scores, letter_to_score_map)\n",
        "            if found_it := guesses[-1] == secret_word:\n",
        "                break\n",
        "\n",
        "    # ---------------------- Post-process: report the result ----------------------------\n",
        "\n",
        "    (correct_sorry, is_was, style) = ('Correct', 'is',  'correct') if found_it else \\\n",
        "                                     ('Sorry',   'was', 'incorrect')\n",
        "    Rich_IO.rich_print(f\"\\n {correct_sorry}, the secret word {is_was} {secret_word} \", style=style)\n",
        "\n",
        "def make_a_guess(secret_word, guesses, guess_scores, letter_to_score_map) -> Tuple[List[str], List[str], Dict[str, str]]:\n",
        "    \"\"\"\n",
        "    Make and score a new guess. Update and return guesses, guess_scores, and letter_to_score_map.\n",
        "    \"\"\"\n",
        "    guess = Rich_IO.guess_a_word(previous_guesses=guesses)\n",
        "    guess_score = score_a_guess(secret_word, guess)\n",
        "\n",
        "    # Update letter_to_score_map\n",
        "    for letter, letter_score in zip(guess, guess_score):\n",
        "        if SCORE_RANKING[letter_score] > SCORE_RANKING[letter_to_score_map[letter]]:\n",
        "            letter_to_score_map[letter] = letter_score\n",
        "\n",
        "    # Use + instead of append() to be more functional.\n",
        "    # When using +, must put guess into a list since + concatenates its arguments.\n",
        "    return guesses + [guess], guess_scores + [guess_score], letter_to_score_map\n",
        "\n",
        "def score_a_guess(secret_word, guess) -> str:\n",
        "    '''\n",
        "    Build a list with one char for each guess element.\n",
        "    g = Letter in Correct position (green);\n",
        "    y = Letter in Incorrect position (yellow);\n",
        "    ~ = Letter not in secret_word. (These are the gray results. Can't use 'g' since we use it for green)\n",
        "\n",
        "    In the following example: secret_word = 'hpaay'\n",
        "                              guess       = 'aaapz'\n",
        "                              -> score    = 'y~gy~'\n",
        "\n",
        "    The third letter in both the secret_word and the guess is \"a\".\n",
        "        So the third letter in the score must be \"g\".\n",
        "        (The matching letters must be determined first.)\n",
        "    The first letter in the guess, 'a', is associated with the fourth letter in the secret_word, 'a'.\n",
        "        So the first letter in the score is \"y\".\n",
        "    The second letter in the guess, 'a', has nothing in secret_word to be associated with.\n",
        "        So the second letter in the score is \"#\".\n",
        "    The other two letter in the score should be self explanatory.\n",
        "    '''\n",
        "\n",
        "    # Generate the score list with the letters in the correct position marked 'g'.\n",
        "    # All non-green elements are marked '#'. These will be changed to 'y' later if appropriate.\n",
        "    score = [('g' if sec_ltr == guess_ltr else '~') for sec_ltr, guess_ltr in zip(secret_word, guess)]\n",
        "\n",
        "    # Generate a list of the \"holes,\" i.e., secret_word letters that do not have correct corresponding guess letters.\n",
        "    secret_word_holes = [sec_ltr for sec_ltr, score_ltr in zip(secret_word, score) if score_ltr != 'g']\n",
        "\n",
        "    if verbose: print(f'{secret_word_holes = }')\n",
        "\n",
        "    # For each available secret_word hole find matching guess letters. Ignore guess letters that are\n",
        "    # paired with their secret_word letters. Score the first match as 'y' and don't look further.\n",
        "    for ltr in secret_word_holes:\n",
        "        for i in range(len(score)):\n",
        "            # Have we found a hole-filling letter in guess that is not otherwise committed?\n",
        "            # If so, mark it 'y'. Since we have now filled this hole, go on to the next hole.\n",
        "            if guess[i] == ltr and score[i] == '~':\n",
        "                score[i] = 'y'\n",
        "                break\n",
        "\n",
        "    # Return score as a string\n",
        "    score_string = ''.join(score)\n",
        "    if verbose:\n",
        "        print(f'\\n\\t{score_string = }\\n\\n')\n",
        "    return score_string\n",
        "\n",
        "# main()"
      ]
    },
    {
      "cell_type": "code",
      "source": [
        "# This is the start of a longer word list.\n",
        "# It's the final cell to make it easier to consult while playing.\n",
        "\n",
        "wordle_word_list = [\n",
        "    'aback', 'abase', 'abate', 'abbey', 'abbot', 'abhor', 'abide', 'abled', 'abode', 'abort',\n",
        "    'about', 'above', 'abuse', 'abyss', 'acorn', 'acrid', 'actor', 'acute', 'adage', 'adapt',\n",
        "    'adept', 'adieu', 'admin', 'admit', 'adobe', 'adopt', 'adore', 'adorn', 'adult', 'affix',\n",
        "    'afire', 'afoot', 'afoul', 'after', 'again', 'agape', 'agate', 'agent', 'agile', 'aging',\n",
        "    'aglow', 'agony', 'agora', 'agree', 'ahead', 'aider', 'aisle', 'alarm', 'album', 'alert',\n",
        "    'algae', 'alibi', 'alien', 'align', 'alike', 'alive', 'allay', 'alley', 'allot', 'allow',\n",
        "    'alloy', 'aloft', 'alone', 'along', 'aloof', 'aloud', 'alpha', 'altar', 'alter', 'amass',\n",
        "    'amaze', 'amber', 'amble', 'amend', 'amiss', 'amity', 'among', 'ample', 'amply', 'amuse',\n",
        "    'angel', 'anger', 'angle', 'angry', 'angst', 'anime', 'ankle', 'annex', 'annoy', 'annul',\n",
        "    'anode', 'antic', 'anvil', 'aorta', 'apart', 'aphid', 'aping', 'apnea', 'apple', 'apply',\n",
        "    'apron', 'aptly', 'arbor', 'ardor', 'arena', 'argue', 'arise', 'armor', 'aroma', 'arose',\n",
        "    'array', 'arrow', 'arson', 'artsy', 'ascot', 'ashen', 'aside', 'askew', 'assay', 'asset',\n",
        "    'atoll', 'atone', 'attic', 'audio', 'audit', 'augur', 'aunty', 'avail', 'avert', 'avian',\n",
        "    'avoid', 'await', 'awake', 'award', 'aware', 'awash', 'awful', 'awoke', 'axial', 'axiom',\n",
        "    'axion', 'azure']\n",
        "\n",
        "WYRLD_WORDS = [word.upper() for word in wordle_word_list\n",
        "                    if len(word) == NUM_LETTERS and\n",
        "                       all(letter in ascii_letters for letter in word)]\n",
        "\n",
        "if not WYRLD_WORDS:\n",
        "\n",
        "    Rich_IO.rich_print(\n",
        "        f\"No words of length {NUM_LETTERS} in the word list\",\n",
        "        style=\"warning\")\n",
        "\n",
        "    raise SystemExit()\n",
        "\n",
        "main()"
      ],
      "metadata": {
        "colab": {
          "base_uri": "https://localhost:8080/",
          "height": 484
        },
        "id": "VkvR6OTsr5_K",
        "outputId": "b75e7393-831e-4a38-dc15-efc5d9edcb0c"
      },
      "execution_count": 3,
      "outputs": [
        {
          "output_type": "display_data",
          "data": {
            "text/plain": [],
            "text/html": [
              "<pre style=\"white-space:pre;overflow-x:auto;line-height:normal;font-family:Menlo,'DejaVu Sans Mono',consolas,'Courier New',monospace\"></pre>\n"
            ]
          },
          "metadata": {}
        },
        {
          "output_type": "display_data",
          "data": {
            "text/plain": [
              "\u001b[92m──────────────────────────────── \u001b[0m\u001b[38;2;0;204;255m🧙 Guess 1 💡\u001b[0m \u001b[92m ────────────────────────────────\u001b[0m\n"
            ],
            "text/html": [
              "<pre style=\"white-space:pre;overflow-x:auto;line-height:normal;font-family:Menlo,'DejaVu Sans Mono',consolas,'Courier New',monospace\"><span style=\"color: #00ff00; text-decoration-color: #00ff00\">──────────────────────────────── </span><span style=\"color: #00ccff; text-decoration-color: #00ccff\">🧙 Guess 1 💡</span> <span style=\"color: #00ff00; text-decoration-color: #00ff00\"> ────────────────────────────────</span>\n",
              "</pre>\n"
            ]
          },
          "metadata": {}
        },
        {
          "output_type": "display_data",
          "data": {
            "text/plain": [
              "\n",
              "Guess word: "
            ],
            "text/html": [
              "<pre style=\"white-space:pre;overflow-x:auto;line-height:normal;font-family:Menlo,'DejaVu Sans Mono',consolas,'Courier New',monospace\">\n",
              "Guess word: </pre>\n"
            ]
          },
          "metadata": {}
        },
        {
          "name": "stdout",
          "output_type": "stream",
          "text": [
            "ouise\n"
          ]
        },
        {
          "output_type": "display_data",
          "data": {
            "text/plain": [
              "                                   \u001b[1;37;48;2;0;0;0mO\u001b[0m \u001b[1;37;48;2;0;0;0mU\u001b[0m \u001b[1;37;48;2;0;0;0mI\u001b[0m \u001b[1;37;48;2;0;0;0mS\u001b[0m \u001b[1;30;48;2;255;255;0mE\u001b[0m                                    \n"
            ],
            "text/html": [
              "<pre style=\"white-space:pre;overflow-x:auto;line-height:normal;font-family:Menlo,'DejaVu Sans Mono',consolas,'Courier New',monospace\">                                   <span style=\"color: #c0c0c0; text-decoration-color: #c0c0c0; background-color: #000000; font-weight: bold\">O</span> <span style=\"color: #c0c0c0; text-decoration-color: #c0c0c0; background-color: #000000; font-weight: bold\">U</span> <span style=\"color: #c0c0c0; text-decoration-color: #c0c0c0; background-color: #000000; font-weight: bold\">I</span> <span style=\"color: #c0c0c0; text-decoration-color: #c0c0c0; background-color: #000000; font-weight: bold\">S</span> <span style=\"color: #000000; text-decoration-color: #000000; background-color: #ffff00; font-weight: bold\">E</span>                                    \n",
              "</pre>\n"
            ]
          },
          "metadata": {}
        },
        {
          "output_type": "display_data",
          "data": {
            "text/plain": [
              "                                                                                \n",
              "              \u001b[2mA\u001b[0m \u001b[2mB\u001b[0m \u001b[2mC\u001b[0m \u001b[2mD\u001b[0m \u001b[1;30;48;2;255;255;0mE\u001b[0m \u001b[2mF\u001b[0m \u001b[2mG\u001b[0m \u001b[2mH\u001b[0m \u001b[1;37;48;2;0;0;0mI\u001b[0m \u001b[2mJ\u001b[0m \u001b[2mK\u001b[0m \u001b[2mL\u001b[0m \u001b[2mM\u001b[0m \u001b[2mN\u001b[0m \u001b[1;37;48;2;0;0;0mO\u001b[0m \u001b[2mP\u001b[0m \u001b[2mQ\u001b[0m \u001b[2mR\u001b[0m \u001b[1;37;48;2;0;0;0mS\u001b[0m \u001b[2mT\u001b[0m \u001b[1;37;48;2;0;0;0mU\u001b[0m \u001b[2mV\u001b[0m \u001b[2mW\u001b[0m \u001b[2mX\u001b[0m \u001b[2mY\u001b[0m \u001b[2mZ\u001b[0m               \n",
              "                                                                                \n",
              "                                                                                \n"
            ],
            "text/html": [
              "<pre style=\"white-space:pre;overflow-x:auto;line-height:normal;font-family:Menlo,'DejaVu Sans Mono',consolas,'Courier New',monospace\">                                                                                \n",
              "              <span style=\"color: #7f7f7f; text-decoration-color: #7f7f7f\">A</span> <span style=\"color: #7f7f7f; text-decoration-color: #7f7f7f\">B</span> <span style=\"color: #7f7f7f; text-decoration-color: #7f7f7f\">C</span> <span style=\"color: #7f7f7f; text-decoration-color: #7f7f7f\">D</span> <span style=\"color: #000000; text-decoration-color: #000000; background-color: #ffff00; font-weight: bold\">E</span> <span style=\"color: #7f7f7f; text-decoration-color: #7f7f7f\">F</span> <span style=\"color: #7f7f7f; text-decoration-color: #7f7f7f\">G</span> <span style=\"color: #7f7f7f; text-decoration-color: #7f7f7f\">H</span> <span style=\"color: #c0c0c0; text-decoration-color: #c0c0c0; background-color: #000000; font-weight: bold\">I</span> <span style=\"color: #7f7f7f; text-decoration-color: #7f7f7f\">J</span> <span style=\"color: #7f7f7f; text-decoration-color: #7f7f7f\">K</span> <span style=\"color: #7f7f7f; text-decoration-color: #7f7f7f\">L</span> <span style=\"color: #7f7f7f; text-decoration-color: #7f7f7f\">M</span> <span style=\"color: #7f7f7f; text-decoration-color: #7f7f7f\">N</span> <span style=\"color: #c0c0c0; text-decoration-color: #c0c0c0; background-color: #000000; font-weight: bold\">O</span> <span style=\"color: #7f7f7f; text-decoration-color: #7f7f7f\">P</span> <span style=\"color: #7f7f7f; text-decoration-color: #7f7f7f\">Q</span> <span style=\"color: #7f7f7f; text-decoration-color: #7f7f7f\">R</span> <span style=\"color: #c0c0c0; text-decoration-color: #c0c0c0; background-color: #000000; font-weight: bold\">S</span> <span style=\"color: #7f7f7f; text-decoration-color: #7f7f7f\">T</span> <span style=\"color: #c0c0c0; text-decoration-color: #c0c0c0; background-color: #000000; font-weight: bold\">U</span> <span style=\"color: #7f7f7f; text-decoration-color: #7f7f7f\">V</span> <span style=\"color: #7f7f7f; text-decoration-color: #7f7f7f\">W</span> <span style=\"color: #7f7f7f; text-decoration-color: #7f7f7f\">X</span> <span style=\"color: #7f7f7f; text-decoration-color: #7f7f7f\">Y</span> <span style=\"color: #7f7f7f; text-decoration-color: #7f7f7f\">Z</span>               \n",
              "                                                                                \n",
              "                                                                                \n",
              "</pre>\n"
            ]
          },
          "metadata": {}
        },
        {
          "output_type": "display_data",
          "data": {
            "text/plain": [],
            "text/html": [
              "<pre style=\"white-space:pre;overflow-x:auto;line-height:normal;font-family:Menlo,'DejaVu Sans Mono',consolas,'Courier New',monospace\"></pre>\n"
            ]
          },
          "metadata": {}
        },
        {
          "output_type": "display_data",
          "data": {
            "text/plain": [
              "\u001b[92m──────────────────────────────── \u001b[0m\u001b[38;2;0;204;255m🧙 Guess 2 💡\u001b[0m \u001b[92m ────────────────────────────────\u001b[0m\n"
            ],
            "text/html": [
              "<pre style=\"white-space:pre;overflow-x:auto;line-height:normal;font-family:Menlo,'DejaVu Sans Mono',consolas,'Courier New',monospace\"><span style=\"color: #00ff00; text-decoration-color: #00ff00\">──────────────────────────────── </span><span style=\"color: #00ccff; text-decoration-color: #00ccff\">🧙 Guess 2 💡</span> <span style=\"color: #00ff00; text-decoration-color: #00ff00\"> ────────────────────────────────</span>\n",
              "</pre>\n"
            ]
          },
          "metadata": {}
        },
        {
          "output_type": "display_data",
          "data": {
            "text/plain": [
              "\n",
              "Guess word: "
            ],
            "text/html": [
              "<pre style=\"white-space:pre;overflow-x:auto;line-height:normal;font-family:Menlo,'DejaVu Sans Mono',consolas,'Courier New',monospace\">\n",
              "Guess word: </pre>\n"
            ]
          },
          "metadata": {}
        },
        {
          "name": "stdout",
          "output_type": "stream",
          "text": [
            "angel\n"
          ]
        },
        {
          "output_type": "display_data",
          "data": {
            "text/plain": [
              "                                   \u001b[1;37;48;2;0;0;0mO\u001b[0m \u001b[1;37;48;2;0;0;0mU\u001b[0m \u001b[1;37;48;2;0;0;0mI\u001b[0m \u001b[1;37;48;2;0;0;0mS\u001b[0m \u001b[1;30;48;2;255;255;0mE\u001b[0m                                    \n"
            ],
            "text/html": [
              "<pre style=\"white-space:pre;overflow-x:auto;line-height:normal;font-family:Menlo,'DejaVu Sans Mono',consolas,'Courier New',monospace\">                                   <span style=\"color: #c0c0c0; text-decoration-color: #c0c0c0; background-color: #000000; font-weight: bold\">O</span> <span style=\"color: #c0c0c0; text-decoration-color: #c0c0c0; background-color: #000000; font-weight: bold\">U</span> <span style=\"color: #c0c0c0; text-decoration-color: #c0c0c0; background-color: #000000; font-weight: bold\">I</span> <span style=\"color: #c0c0c0; text-decoration-color: #c0c0c0; background-color: #000000; font-weight: bold\">S</span> <span style=\"color: #000000; text-decoration-color: #000000; background-color: #ffff00; font-weight: bold\">E</span>                                    \n",
              "</pre>\n"
            ]
          },
          "metadata": {}
        },
        {
          "output_type": "display_data",
          "data": {
            "text/plain": [
              "                                   \u001b[1;30;48;2;0;255;0mA\u001b[0m \u001b[1;30;48;2;0;255;0mN\u001b[0m \u001b[1;30;48;2;0;255;0mG\u001b[0m \u001b[1;30;48;2;0;255;0mE\u001b[0m \u001b[1;37;48;2;0;0;0mL\u001b[0m                                    \n"
            ],
            "text/html": [
              "<pre style=\"white-space:pre;overflow-x:auto;line-height:normal;font-family:Menlo,'DejaVu Sans Mono',consolas,'Courier New',monospace\">                                   <span style=\"color: #000000; text-decoration-color: #000000; background-color: #00ff00; font-weight: bold\">A</span> <span style=\"color: #000000; text-decoration-color: #000000; background-color: #00ff00; font-weight: bold\">N</span> <span style=\"color: #000000; text-decoration-color: #000000; background-color: #00ff00; font-weight: bold\">G</span> <span style=\"color: #000000; text-decoration-color: #000000; background-color: #00ff00; font-weight: bold\">E</span> <span style=\"color: #c0c0c0; text-decoration-color: #c0c0c0; background-color: #000000; font-weight: bold\">L</span>                                    \n",
              "</pre>\n"
            ]
          },
          "metadata": {}
        },
        {
          "output_type": "display_data",
          "data": {
            "text/plain": [
              "                                                                                \n",
              "              \u001b[1;30;48;2;0;255;0mA\u001b[0m \u001b[2mB\u001b[0m \u001b[2mC\u001b[0m \u001b[2mD\u001b[0m \u001b[1;30;48;2;0;255;0mE\u001b[0m \u001b[2mF\u001b[0m \u001b[1;30;48;2;0;255;0mG\u001b[0m \u001b[2mH\u001b[0m \u001b[1;37;48;2;0;0;0mI\u001b[0m \u001b[2mJ\u001b[0m \u001b[2mK\u001b[0m \u001b[1;37;48;2;0;0;0mL\u001b[0m \u001b[2mM\u001b[0m \u001b[1;30;48;2;0;255;0mN\u001b[0m \u001b[1;37;48;2;0;0;0mO\u001b[0m \u001b[2mP\u001b[0m \u001b[2mQ\u001b[0m \u001b[2mR\u001b[0m \u001b[1;37;48;2;0;0;0mS\u001b[0m \u001b[2mT\u001b[0m \u001b[1;37;48;2;0;0;0mU\u001b[0m \u001b[2mV\u001b[0m \u001b[2mW\u001b[0m \u001b[2mX\u001b[0m \u001b[2mY\u001b[0m \u001b[2mZ\u001b[0m               \n",
              "                                                                                \n",
              "                                                                                \n"
            ],
            "text/html": [
              "<pre style=\"white-space:pre;overflow-x:auto;line-height:normal;font-family:Menlo,'DejaVu Sans Mono',consolas,'Courier New',monospace\">                                                                                \n",
              "              <span style=\"color: #000000; text-decoration-color: #000000; background-color: #00ff00; font-weight: bold\">A</span> <span style=\"color: #7f7f7f; text-decoration-color: #7f7f7f\">B</span> <span style=\"color: #7f7f7f; text-decoration-color: #7f7f7f\">C</span> <span style=\"color: #7f7f7f; text-decoration-color: #7f7f7f\">D</span> <span style=\"color: #000000; text-decoration-color: #000000; background-color: #00ff00; font-weight: bold\">E</span> <span style=\"color: #7f7f7f; text-decoration-color: #7f7f7f\">F</span> <span style=\"color: #000000; text-decoration-color: #000000; background-color: #00ff00; font-weight: bold\">G</span> <span style=\"color: #7f7f7f; text-decoration-color: #7f7f7f\">H</span> <span style=\"color: #c0c0c0; text-decoration-color: #c0c0c0; background-color: #000000; font-weight: bold\">I</span> <span style=\"color: #7f7f7f; text-decoration-color: #7f7f7f\">J</span> <span style=\"color: #7f7f7f; text-decoration-color: #7f7f7f\">K</span> <span style=\"color: #c0c0c0; text-decoration-color: #c0c0c0; background-color: #000000; font-weight: bold\">L</span> <span style=\"color: #7f7f7f; text-decoration-color: #7f7f7f\">M</span> <span style=\"color: #000000; text-decoration-color: #000000; background-color: #00ff00; font-weight: bold\">N</span> <span style=\"color: #c0c0c0; text-decoration-color: #c0c0c0; background-color: #000000; font-weight: bold\">O</span> <span style=\"color: #7f7f7f; text-decoration-color: #7f7f7f\">P</span> <span style=\"color: #7f7f7f; text-decoration-color: #7f7f7f\">Q</span> <span style=\"color: #7f7f7f; text-decoration-color: #7f7f7f\">R</span> <span style=\"color: #c0c0c0; text-decoration-color: #c0c0c0; background-color: #000000; font-weight: bold\">S</span> <span style=\"color: #7f7f7f; text-decoration-color: #7f7f7f\">T</span> <span style=\"color: #c0c0c0; text-decoration-color: #c0c0c0; background-color: #000000; font-weight: bold\">U</span> <span style=\"color: #7f7f7f; text-decoration-color: #7f7f7f\">V</span> <span style=\"color: #7f7f7f; text-decoration-color: #7f7f7f\">W</span> <span style=\"color: #7f7f7f; text-decoration-color: #7f7f7f\">X</span> <span style=\"color: #7f7f7f; text-decoration-color: #7f7f7f\">Y</span> <span style=\"color: #7f7f7f; text-decoration-color: #7f7f7f\">Z</span>               \n",
              "                                                                                \n",
              "                                                                                \n",
              "</pre>\n"
            ]
          },
          "metadata": {}
        },
        {
          "output_type": "display_data",
          "data": {
            "text/plain": [],
            "text/html": [
              "<pre style=\"white-space:pre;overflow-x:auto;line-height:normal;font-family:Menlo,'DejaVu Sans Mono',consolas,'Courier New',monospace\"></pre>\n"
            ]
          },
          "metadata": {}
        },
        {
          "output_type": "display_data",
          "data": {
            "text/plain": [
              "\u001b[92m──────────────────────────────── \u001b[0m\u001b[38;2;0;204;255m🧙 Guess 3 💡\u001b[0m \u001b[92m ────────────────────────────────\u001b[0m\n"
            ],
            "text/html": [
              "<pre style=\"white-space:pre;overflow-x:auto;line-height:normal;font-family:Menlo,'DejaVu Sans Mono',consolas,'Courier New',monospace\"><span style=\"color: #00ff00; text-decoration-color: #00ff00\">──────────────────────────────── </span><span style=\"color: #00ccff; text-decoration-color: #00ccff\">🧙 Guess 3 💡</span> <span style=\"color: #00ff00; text-decoration-color: #00ff00\"> ────────────────────────────────</span>\n",
              "</pre>\n"
            ]
          },
          "metadata": {}
        },
        {
          "output_type": "display_data",
          "data": {
            "text/plain": [
              "\n",
              "Guess word: "
            ],
            "text/html": [
              "<pre style=\"white-space:pre;overflow-x:auto;line-height:normal;font-family:Menlo,'DejaVu Sans Mono',consolas,'Courier New',monospace\">\n",
              "Guess word: </pre>\n"
            ]
          },
          "metadata": {}
        },
        {
          "name": "stdout",
          "output_type": "stream",
          "text": [
            "anger\n"
          ]
        },
        {
          "output_type": "display_data",
          "data": {
            "text/plain": [
              "                                   \u001b[1;37;48;2;0;0;0mO\u001b[0m \u001b[1;37;48;2;0;0;0mU\u001b[0m \u001b[1;37;48;2;0;0;0mI\u001b[0m \u001b[1;37;48;2;0;0;0mS\u001b[0m \u001b[1;30;48;2;255;255;0mE\u001b[0m                                    \n"
            ],
            "text/html": [
              "<pre style=\"white-space:pre;overflow-x:auto;line-height:normal;font-family:Menlo,'DejaVu Sans Mono',consolas,'Courier New',monospace\">                                   <span style=\"color: #c0c0c0; text-decoration-color: #c0c0c0; background-color: #000000; font-weight: bold\">O</span> <span style=\"color: #c0c0c0; text-decoration-color: #c0c0c0; background-color: #000000; font-weight: bold\">U</span> <span style=\"color: #c0c0c0; text-decoration-color: #c0c0c0; background-color: #000000; font-weight: bold\">I</span> <span style=\"color: #c0c0c0; text-decoration-color: #c0c0c0; background-color: #000000; font-weight: bold\">S</span> <span style=\"color: #000000; text-decoration-color: #000000; background-color: #ffff00; font-weight: bold\">E</span>                                    \n",
              "</pre>\n"
            ]
          },
          "metadata": {}
        },
        {
          "output_type": "display_data",
          "data": {
            "text/plain": [
              "                                   \u001b[1;30;48;2;0;255;0mA\u001b[0m \u001b[1;30;48;2;0;255;0mN\u001b[0m \u001b[1;30;48;2;0;255;0mG\u001b[0m \u001b[1;30;48;2;0;255;0mE\u001b[0m \u001b[1;37;48;2;0;0;0mL\u001b[0m                                    \n"
            ],
            "text/html": [
              "<pre style=\"white-space:pre;overflow-x:auto;line-height:normal;font-family:Menlo,'DejaVu Sans Mono',consolas,'Courier New',monospace\">                                   <span style=\"color: #000000; text-decoration-color: #000000; background-color: #00ff00; font-weight: bold\">A</span> <span style=\"color: #000000; text-decoration-color: #000000; background-color: #00ff00; font-weight: bold\">N</span> <span style=\"color: #000000; text-decoration-color: #000000; background-color: #00ff00; font-weight: bold\">G</span> <span style=\"color: #000000; text-decoration-color: #000000; background-color: #00ff00; font-weight: bold\">E</span> <span style=\"color: #c0c0c0; text-decoration-color: #c0c0c0; background-color: #000000; font-weight: bold\">L</span>                                    \n",
              "</pre>\n"
            ]
          },
          "metadata": {}
        },
        {
          "output_type": "display_data",
          "data": {
            "text/plain": [
              "                                   \u001b[1;30;48;2;0;255;0mA\u001b[0m \u001b[1;30;48;2;0;255;0mN\u001b[0m \u001b[1;30;48;2;0;255;0mG\u001b[0m \u001b[1;30;48;2;0;255;0mE\u001b[0m \u001b[1;30;48;2;0;255;0mR\u001b[0m                                    \n"
            ],
            "text/html": [
              "<pre style=\"white-space:pre;overflow-x:auto;line-height:normal;font-family:Menlo,'DejaVu Sans Mono',consolas,'Courier New',monospace\">                                   <span style=\"color: #000000; text-decoration-color: #000000; background-color: #00ff00; font-weight: bold\">A</span> <span style=\"color: #000000; text-decoration-color: #000000; background-color: #00ff00; font-weight: bold\">N</span> <span style=\"color: #000000; text-decoration-color: #000000; background-color: #00ff00; font-weight: bold\">G</span> <span style=\"color: #000000; text-decoration-color: #000000; background-color: #00ff00; font-weight: bold\">E</span> <span style=\"color: #000000; text-decoration-color: #000000; background-color: #00ff00; font-weight: bold\">R</span>                                    \n",
              "</pre>\n"
            ]
          },
          "metadata": {}
        },
        {
          "output_type": "display_data",
          "data": {
            "text/plain": [
              "                                                                                \n",
              "              \u001b[1;30;48;2;0;255;0mA\u001b[0m \u001b[2mB\u001b[0m \u001b[2mC\u001b[0m \u001b[2mD\u001b[0m \u001b[1;30;48;2;0;255;0mE\u001b[0m \u001b[2mF\u001b[0m \u001b[1;30;48;2;0;255;0mG\u001b[0m \u001b[2mH\u001b[0m \u001b[1;37;48;2;0;0;0mI\u001b[0m \u001b[2mJ\u001b[0m \u001b[2mK\u001b[0m \u001b[1;37;48;2;0;0;0mL\u001b[0m \u001b[2mM\u001b[0m \u001b[1;30;48;2;0;255;0mN\u001b[0m \u001b[1;37;48;2;0;0;0mO\u001b[0m \u001b[2mP\u001b[0m \u001b[2mQ\u001b[0m \u001b[1;30;48;2;0;255;0mR\u001b[0m \u001b[1;37;48;2;0;0;0mS\u001b[0m \u001b[2mT\u001b[0m \u001b[1;37;48;2;0;0;0mU\u001b[0m \u001b[2mV\u001b[0m \u001b[2mW\u001b[0m \u001b[2mX\u001b[0m \u001b[2mY\u001b[0m \u001b[2mZ\u001b[0m               \n",
              "                                                                                \n",
              "                                                                                \n"
            ],
            "text/html": [
              "<pre style=\"white-space:pre;overflow-x:auto;line-height:normal;font-family:Menlo,'DejaVu Sans Mono',consolas,'Courier New',monospace\">                                                                                \n",
              "              <span style=\"color: #000000; text-decoration-color: #000000; background-color: #00ff00; font-weight: bold\">A</span> <span style=\"color: #7f7f7f; text-decoration-color: #7f7f7f\">B</span> <span style=\"color: #7f7f7f; text-decoration-color: #7f7f7f\">C</span> <span style=\"color: #7f7f7f; text-decoration-color: #7f7f7f\">D</span> <span style=\"color: #000000; text-decoration-color: #000000; background-color: #00ff00; font-weight: bold\">E</span> <span style=\"color: #7f7f7f; text-decoration-color: #7f7f7f\">F</span> <span style=\"color: #000000; text-decoration-color: #000000; background-color: #00ff00; font-weight: bold\">G</span> <span style=\"color: #7f7f7f; text-decoration-color: #7f7f7f\">H</span> <span style=\"color: #c0c0c0; text-decoration-color: #c0c0c0; background-color: #000000; font-weight: bold\">I</span> <span style=\"color: #7f7f7f; text-decoration-color: #7f7f7f\">J</span> <span style=\"color: #7f7f7f; text-decoration-color: #7f7f7f\">K</span> <span style=\"color: #c0c0c0; text-decoration-color: #c0c0c0; background-color: #000000; font-weight: bold\">L</span> <span style=\"color: #7f7f7f; text-decoration-color: #7f7f7f\">M</span> <span style=\"color: #000000; text-decoration-color: #000000; background-color: #00ff00; font-weight: bold\">N</span> <span style=\"color: #c0c0c0; text-decoration-color: #c0c0c0; background-color: #000000; font-weight: bold\">O</span> <span style=\"color: #7f7f7f; text-decoration-color: #7f7f7f\">P</span> <span style=\"color: #7f7f7f; text-decoration-color: #7f7f7f\">Q</span> <span style=\"color: #000000; text-decoration-color: #000000; background-color: #00ff00; font-weight: bold\">R</span> <span style=\"color: #c0c0c0; text-decoration-color: #c0c0c0; background-color: #000000; font-weight: bold\">S</span> <span style=\"color: #7f7f7f; text-decoration-color: #7f7f7f\">T</span> <span style=\"color: #c0c0c0; text-decoration-color: #c0c0c0; background-color: #000000; font-weight: bold\">U</span> <span style=\"color: #7f7f7f; text-decoration-color: #7f7f7f\">V</span> <span style=\"color: #7f7f7f; text-decoration-color: #7f7f7f\">W</span> <span style=\"color: #7f7f7f; text-decoration-color: #7f7f7f\">X</span> <span style=\"color: #7f7f7f; text-decoration-color: #7f7f7f\">Y</span> <span style=\"color: #7f7f7f; text-decoration-color: #7f7f7f\">Z</span>               \n",
              "                                                                                \n",
              "                                                                                \n",
              "</pre>\n"
            ]
          },
          "metadata": {}
        },
        {
          "output_type": "display_data",
          "data": {
            "text/plain": [
              "\n",
              "\u001b[1;30;48;2;221;255;221m Correct, the secret word is ANGER \u001b[0m\n"
            ],
            "text/html": [
              "<pre style=\"white-space:pre;overflow-x:auto;line-height:normal;font-family:Menlo,'DejaVu Sans Mono',consolas,'Courier New',monospace\">\n",
              "<span style=\"color: #000000; text-decoration-color: #000000; background-color: #ddffdd; font-weight: bold\"> Correct, the secret word is ANGER </span>\n",
              "</pre>\n"
            ]
          },
          "metadata": {}
        }
      ]
    }
  ]
}